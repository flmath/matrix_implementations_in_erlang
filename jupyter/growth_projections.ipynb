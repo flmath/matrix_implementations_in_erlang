{
 "cells": [
  {
   "cell_type": "code",
   "execution_count": 148,
   "metadata": {},
   "outputs": [
    {
     "data": {
      "text/plain": [
       "'0.23.0'"
      ]
     },
     "execution_count": 148,
     "metadata": {},
     "output_type": "execute_result"
    }
   ],
   "source": [
    "import pandas as pd\n",
    "pd.__version__"
   ]
  },
  {
   "cell_type": "markdown",
   "metadata": {},
   "source": [
    "# Introduction"
   ]
  },
  {
   "cell_type": "markdown",
   "metadata": {},
   "source": [
    "## Description"
   ]
  },
  {
   "cell_type": "markdown",
   "metadata": {},
   "source": [
    "The calculations for [erlang matrix implementation efficiencies](https://nbviewer.jupyter.org/urls/github.com/flmath/matrix_implementations_in_erlang/raw/master/jupyter/main.ipynb), with [methodology](https://nbviewer.jupyter.org/urls/github.com/flmath/empirical-growth-testing/raw/master/Empirical_growth_testing.ipynb) descripted in my other [repo](https://github.com/flmath/empirical-growth-testing)."
   ]
  },
  {
   "cell_type": "code",
   "execution_count": 149,
   "metadata": {
    "scrolled": true
   },
   "outputs": [
    {
     "data": {
      "text/html": [
       "<div>\n",
       "<style scoped>\n",
       "    .dataframe tbody tr th:only-of-type {\n",
       "        vertical-align: middle;\n",
       "    }\n",
       "\n",
       "    .dataframe tbody tr th {\n",
       "        vertical-align: top;\n",
       "    }\n",
       "\n",
       "    .dataframe thead th {\n",
       "        text-align: right;\n",
       "    }\n",
       "</style>\n",
       "<table border=\"1\" class=\"dataframe\">\n",
       "  <thead>\n",
       "    <tr style=\"text-align: right;\">\n",
       "      <th></th>\n",
       "      <th>ExecutionTime</th>\n",
       "      <th>Height</th>\n",
       "      <th>Operation</th>\n",
       "      <th>Representation</th>\n",
       "      <th>Runs</th>\n",
       "      <th>Width</th>\n",
       "    </tr>\n",
       "  </thead>\n",
       "  <tbody>\n",
       "    <tr>\n",
       "      <th>0</th>\n",
       "      <td>1078</td>\n",
       "      <td>100</td>\n",
       "      <td>get_value</td>\n",
       "      <td>matrix_as_bit_map</td>\n",
       "      <td>100</td>\n",
       "      <td>100</td>\n",
       "    </tr>\n",
       "    <tr>\n",
       "      <th>1</th>\n",
       "      <td>348</td>\n",
       "      <td>100</td>\n",
       "      <td>get_value</td>\n",
       "      <td>matrix_as_ext_bit_map</td>\n",
       "      <td>100</td>\n",
       "      <td>100</td>\n",
       "    </tr>\n",
       "    <tr>\n",
       "      <th>2</th>\n",
       "      <td>21</td>\n",
       "      <td>100</td>\n",
       "      <td>get_value</td>\n",
       "      <td>matrix_as_digraph</td>\n",
       "      <td>100</td>\n",
       "      <td>100</td>\n",
       "    </tr>\n",
       "    <tr>\n",
       "      <th>3</th>\n",
       "      <td>19</td>\n",
       "      <td>100</td>\n",
       "      <td>get_value</td>\n",
       "      <td>matrix_as_ets_bin</td>\n",
       "      <td>100</td>\n",
       "      <td>100</td>\n",
       "    </tr>\n",
       "    <tr>\n",
       "      <th>4</th>\n",
       "      <td>13</td>\n",
       "      <td>100</td>\n",
       "      <td>get_value</td>\n",
       "      <td>matrix_as_map</td>\n",
       "      <td>100</td>\n",
       "      <td>100</td>\n",
       "    </tr>\n",
       "  </tbody>\n",
       "</table>\n",
       "</div>"
      ],
      "text/plain": [
       "   ExecutionTime Height  Operation         Representation Runs Width\n",
       "0           1078    100  get_value      matrix_as_bit_map  100   100\n",
       "1            348    100  get_value  matrix_as_ext_bit_map  100   100\n",
       "2             21    100  get_value      matrix_as_digraph  100   100\n",
       "3             19    100  get_value      matrix_as_ets_bin  100   100\n",
       "4             13    100  get_value          matrix_as_map  100   100"
      ]
     },
     "execution_count": 149,
     "metadata": {},
     "output_type": "execute_result"
    }
   ],
   "source": [
    "from urllib.request import urlopen\n",
    "import re\n",
    "import json\n",
    "\n",
    "response = urlopen(\n",
    "    \"https://github.com/flmath/matrix_implementations_in_erlang/raw/master/examples/results\")\n",
    "data=[]\n",
    "for line in response:\n",
    "    decoded = line.decode('utf-8')\n",
    "    if \"{\"==decoded[0]:\n",
    "        decoded=re.sub('{','{\\\"',decoded)\n",
    "        decoded=re.sub(':','\\\":',decoded)\n",
    "        decoded=re.sub(', ',', \\\"',decoded)\n",
    "        data.append(json.loads(decoded))\n",
    "        \n",
    "LoadedTable = pd.DataFrame.from_dict(data, orient='columns')\n",
    "LoadedTable.head()"
   ]
  },
  {
   "cell_type": "markdown",
   "metadata": {},
   "source": [
    "Lets process the tables the same way as in [empirical growth testing](https://nbviewer.jupyter.org/github/flmath/empirical-growth-testing/blob/master/Empirical_growth_testing.ipynb)."
   ]
  },
  {
   "cell_type": "code",
   "execution_count": 150,
   "metadata": {},
   "outputs": [],
   "source": [
    "LoadedTable = LoadedTable.loc[:,['ExecutionTime','Height','Operation','Representation']]"
   ]
  },
  {
   "cell_type": "code",
   "execution_count": 151,
   "metadata": {},
   "outputs": [],
   "source": [
    "MinTable = (LoadedTable.groupby(['Operation','Representation'])\n",
    "            .apply(lambda x: pd.Series({'Max': x['ExecutionTime'].max()})))"
   ]
  },
  {
   "cell_type": "code",
   "execution_count": 152,
   "metadata": {
    "scrolled": true
   },
   "outputs": [
    {
     "data": {
      "text/html": [
       "<div>\n",
       "<style scoped>\n",
       "    .dataframe tbody tr th:only-of-type {\n",
       "        vertical-align: middle;\n",
       "    }\n",
       "\n",
       "    .dataframe tbody tr th {\n",
       "        vertical-align: top;\n",
       "    }\n",
       "\n",
       "    .dataframe thead tr th {\n",
       "        text-align: left;\n",
       "    }\n",
       "\n",
       "    .dataframe thead tr:last-of-type th {\n",
       "        text-align: right;\n",
       "    }\n",
       "</style>\n",
       "<table border=\"1\" class=\"dataframe\">\n",
       "  <thead>\n",
       "    <tr>\n",
       "      <th></th>\n",
       "      <th></th>\n",
       "      <th colspan=\"10\" halign=\"left\">ExecutionTime</th>\n",
       "    </tr>\n",
       "    <tr>\n",
       "      <th></th>\n",
       "      <th></th>\n",
       "      <th>100</th>\n",
       "      <th>200</th>\n",
       "      <th>300</th>\n",
       "      <th>400</th>\n",
       "      <th>500</th>\n",
       "      <th>600</th>\n",
       "      <th>700</th>\n",
       "      <th>800</th>\n",
       "      <th>900</th>\n",
       "      <th>1000</th>\n",
       "    </tr>\n",
       "    <tr>\n",
       "      <th>Operation</th>\n",
       "      <th>Representation</th>\n",
       "      <th></th>\n",
       "      <th></th>\n",
       "      <th></th>\n",
       "      <th></th>\n",
       "      <th></th>\n",
       "      <th></th>\n",
       "      <th></th>\n",
       "      <th></th>\n",
       "      <th></th>\n",
       "      <th></th>\n",
       "    </tr>\n",
       "  </thead>\n",
       "  <tbody>\n",
       "    <tr>\n",
       "      <th rowspan=\"2\" valign=\"top\">cols_sums</th>\n",
       "      <th>matrix_as_array</th>\n",
       "      <td>149107</td>\n",
       "      <td>698647</td>\n",
       "      <td>1673644</td>\n",
       "      <td>3328258</td>\n",
       "      <td>5315118</td>\n",
       "      <td>7969973</td>\n",
       "      <td>10883773</td>\n",
       "      <td>14856932</td>\n",
       "      <td>19837491</td>\n",
       "      <td>32788776</td>\n",
       "    </tr>\n",
       "    <tr>\n",
       "      <th>matrix_as_array_of_arrays</th>\n",
       "      <td>163495</td>\n",
       "      <td>846333</td>\n",
       "      <td>1965130</td>\n",
       "      <td>3481540</td>\n",
       "      <td>5531289</td>\n",
       "      <td>8061123</td>\n",
       "      <td>11006039</td>\n",
       "      <td>15028130</td>\n",
       "      <td>18675651</td>\n",
       "      <td>22708192</td>\n",
       "    </tr>\n",
       "  </tbody>\n",
       "</table>\n",
       "</div>"
      ],
      "text/plain": [
       "                                    ExecutionTime                            \\\n",
       "                                              100     200      300      400   \n",
       "Operation Representation                                                      \n",
       "cols_sums matrix_as_array                  149107  698647  1673644  3328258   \n",
       "          matrix_as_array_of_arrays        163495  846333  1965130  3481540   \n",
       "\n",
       "                                                                           \\\n",
       "                                         500      600       700       800   \n",
       "Operation Representation                                                    \n",
       "cols_sums matrix_as_array            5315118  7969973  10883773  14856932   \n",
       "          matrix_as_array_of_arrays  5531289  8061123  11006039  15028130   \n",
       "\n",
       "                                                         \n",
       "                                          900      1000  \n",
       "Operation Representation                                 \n",
       "cols_sums matrix_as_array            19837491  32788776  \n",
       "          matrix_as_array_of_arrays  18675651  22708192  "
      ]
     },
     "execution_count": 152,
     "metadata": {},
     "output_type": "execute_result"
    }
   ],
   "source": [
    "SortedTable = LoadedTable.set_index(['Operation','Representation','Height'])\n",
    "SortedTable = SortedTable.unstack(2)\n",
    "IndexTuples = [('ExecutionTime','100'), ('ExecutionTime','200'), ('ExecutionTime','300'), ('ExecutionTime','400'), \n",
    "               ('ExecutionTime','500'), ('ExecutionTime','600'), ('ExecutionTime','700'), \n",
    "               ('ExecutionTime','800'), ('ExecutionTime','900'), ('ExecutionTime','1000')]\n",
    "SortedTable = SortedTable.reindex(columns = pd.MultiIndex.from_tuples(IndexTuples))\n",
    "SortedTable.head(2)"
   ]
  },
  {
   "cell_type": "markdown",
   "metadata": {},
   "source": [
    "Create the fixed legend:"
   ]
  },
  {
   "cell_type": "code",
   "execution_count": 153,
   "metadata": {},
   "outputs": [
    {
     "data": {
      "text/plain": [
       "[(0, 'matrix_as_array'),\n",
       " (1, 'matrix_as_array_of_arrays'),\n",
       " (2, 'matrix_as_big_tuple'),\n",
       " (3, 'matrix_as_bit_map'),\n",
       " (4, 'matrix_as_dict'),\n",
       " (5, 'matrix_as_digraph'),\n",
       " (6, 'matrix_as_ets'),\n",
       " (7, 'matrix_as_ets_bin'),\n",
       " (8, 'matrix_as_ets_list'),\n",
       " (9, 'matrix_as_ext_bit_map'),\n",
       " (10, 'matrix_as_gb_tree'),\n",
       " (11, 'matrix_as_list_map'),\n",
       " (12, 'matrix_as_list_of_lists'),\n",
       " (13, 'matrix_as_map'),\n",
       " (14, 'matrix_as_sofs'),\n",
       " (15, 'matrix_as_tuple_of_tuples')]"
      ]
     },
     "execution_count": 153,
     "metadata": {},
     "output_type": "execute_result"
    }
   ],
   "source": [
    "idx = pd.IndexSlice\n",
    "ColsSums = SortedTable.loc[idx['cols_sums',:],idx[:]]\n",
    "[(i, ColsSums.index.levels[1][i]) for i in range(0,ColsSums.index.levels[1].size)]"
   ]
  },
  {
   "cell_type": "code",
   "execution_count": 154,
   "metadata": {},
   "outputs": [],
   "source": [
    "ColsSums = SortedTable.loc[idx['cols_sums',:],idx[:]]\n",
    "RowsSums = SortedTable.loc[idx['rows_sums',:],idx[:]]\n",
    "SetValue = SortedTable.loc[idx['set_value',:],idx[:]]\n",
    "GetValue = SortedTable.loc[idx['get_value',:],idx[:]]"
   ]
  },
  {
   "cell_type": "markdown",
   "metadata": {},
   "source": [
    "## Tools preparation"
   ]
  },
  {
   "cell_type": "markdown",
   "metadata": {},
   "source": [
    "Now I will try to use [methodology](https://nbviewer.jupyter.org/urls/github.com/flmath/empirical-growth-testing/raw/master/Empirical_growth_testing.ipynb) to find which of implementations are more promising:"
   ]
  },
  {
   "cell_type": "code",
   "execution_count": 155,
   "metadata": {},
   "outputs": [],
   "source": [
    "import numpy as np\n",
    "import scipy as sc"
   ]
  },
  {
   "cell_type": "markdown",
   "metadata": {},
   "source": [
    "Because our series is quite short, we will reduce amount of sample points for [derivation](http://web.media.mit.edu/~crtaylor/calculator.html), to receive the longer series $g$."
   ]
  },
  {
   "cell_type": "code",
   "execution_count": 156,
   "metadata": {},
   "outputs": [],
   "source": [
    "def df_1_small(f,h):\n",
    "    f = np.float64(f)\n",
    "    h = np.float64(h)\n",
    "    df = lambda f, h: ((-3*f[0]+4*f[1]-1*f[2])/(2*1.0*h))\n",
    "    return [df(f[j:j+3], 1) for j in range(0,f.size-3)]\n",
    "def d_g(f,h):\n",
    "    return df_1_small(np.log(f),h)"
   ]
  },
  {
   "cell_type": "code",
   "execution_count": 157,
   "metadata": {},
   "outputs": [],
   "source": [
    "import statsmodels.tsa.stattools as stat\n",
    "import statsmodels.api as sm\n",
    "import scipy.stats as sps"
   ]
  },
  {
   "cell_type": "code",
   "execution_count": 158,
   "metadata": {},
   "outputs": [
    {
     "data": {
      "text/html": [
       "<div>\n",
       "<style scoped>\n",
       "    .dataframe tbody tr th:only-of-type {\n",
       "        vertical-align: middle;\n",
       "    }\n",
       "\n",
       "    .dataframe tbody tr th {\n",
       "        vertical-align: top;\n",
       "    }\n",
       "\n",
       "    .dataframe thead tr th {\n",
       "        text-align: left;\n",
       "    }\n",
       "\n",
       "    .dataframe thead tr:last-of-type th {\n",
       "        text-align: right;\n",
       "    }\n",
       "</style>\n",
       "<table border=\"1\" class=\"dataframe\">\n",
       "  <thead>\n",
       "    <tr>\n",
       "      <th></th>\n",
       "      <th></th>\n",
       "      <th colspan=\"10\" halign=\"left\">ExecutionTime</th>\n",
       "    </tr>\n",
       "    <tr>\n",
       "      <th></th>\n",
       "      <th></th>\n",
       "      <th>100</th>\n",
       "      <th>200</th>\n",
       "      <th>300</th>\n",
       "      <th>400</th>\n",
       "      <th>500</th>\n",
       "      <th>600</th>\n",
       "      <th>700</th>\n",
       "      <th>800</th>\n",
       "      <th>900</th>\n",
       "      <th>1000</th>\n",
       "    </tr>\n",
       "    <tr>\n",
       "      <th>Operation</th>\n",
       "      <th>Representation</th>\n",
       "      <th></th>\n",
       "      <th></th>\n",
       "      <th></th>\n",
       "      <th></th>\n",
       "      <th></th>\n",
       "      <th></th>\n",
       "      <th></th>\n",
       "      <th></th>\n",
       "      <th></th>\n",
       "      <th></th>\n",
       "    </tr>\n",
       "  </thead>\n",
       "  <tbody>\n",
       "    <tr>\n",
       "      <th rowspan=\"5\" valign=\"top\">cols_sums</th>\n",
       "      <th>matrix_as_array</th>\n",
       "      <td>149107</td>\n",
       "      <td>698647</td>\n",
       "      <td>1673644</td>\n",
       "      <td>3328258</td>\n",
       "      <td>5315118</td>\n",
       "      <td>7969973</td>\n",
       "      <td>10883773</td>\n",
       "      <td>14856932</td>\n",
       "      <td>19837491</td>\n",
       "      <td>32788776</td>\n",
       "    </tr>\n",
       "    <tr>\n",
       "      <th>matrix_as_array_of_arrays</th>\n",
       "      <td>163495</td>\n",
       "      <td>846333</td>\n",
       "      <td>1965130</td>\n",
       "      <td>3481540</td>\n",
       "      <td>5531289</td>\n",
       "      <td>8061123</td>\n",
       "      <td>11006039</td>\n",
       "      <td>15028130</td>\n",
       "      <td>18675651</td>\n",
       "      <td>22708192</td>\n",
       "    </tr>\n",
       "    <tr>\n",
       "      <th>matrix_as_big_tuple</th>\n",
       "      <td>32050</td>\n",
       "      <td>92253</td>\n",
       "      <td>319090</td>\n",
       "      <td>366064</td>\n",
       "      <td>625388</td>\n",
       "      <td>863448</td>\n",
       "      <td>1234684</td>\n",
       "      <td>2388208</td>\n",
       "      <td>3653456</td>\n",
       "      <td>11325482</td>\n",
       "    </tr>\n",
       "    <tr>\n",
       "      <th>matrix_as_bit_map</th>\n",
       "      <td>3810040</td>\n",
       "      <td>28384618</td>\n",
       "      <td>53035475</td>\n",
       "      <td>106308550</td>\n",
       "      <td>365437658</td>\n",
       "      <td>226659932</td>\n",
       "      <td>349774361</td>\n",
       "      <td>475854253</td>\n",
       "      <td>589586379</td>\n",
       "      <td>2484937761</td>\n",
       "    </tr>\n",
       "    <tr>\n",
       "      <th>matrix_as_dict</th>\n",
       "      <td>236984</td>\n",
       "      <td>1311307</td>\n",
       "      <td>4352125</td>\n",
       "      <td>9008138</td>\n",
       "      <td>15995373</td>\n",
       "      <td>22315833</td>\n",
       "      <td>31890347</td>\n",
       "      <td>42940168</td>\n",
       "      <td>53118754</td>\n",
       "      <td>67434534</td>\n",
       "    </tr>\n",
       "  </tbody>\n",
       "</table>\n",
       "</div>"
      ],
      "text/plain": [
       "                                    ExecutionTime                      \\\n",
       "                                              100       200       300   \n",
       "Operation Representation                                                \n",
       "cols_sums matrix_as_array                  149107    698647   1673644   \n",
       "          matrix_as_array_of_arrays        163495    846333   1965130   \n",
       "          matrix_as_big_tuple               32050     92253    319090   \n",
       "          matrix_as_bit_map               3810040  28384618  53035475   \n",
       "          matrix_as_dict                   236984   1311307   4352125   \n",
       "\n",
       "                                                                      \\\n",
       "                                           400        500        600   \n",
       "Operation Representation                                               \n",
       "cols_sums matrix_as_array              3328258    5315118    7969973   \n",
       "          matrix_as_array_of_arrays    3481540    5531289    8061123   \n",
       "          matrix_as_big_tuple           366064     625388     863448   \n",
       "          matrix_as_bit_map          106308550  365437658  226659932   \n",
       "          matrix_as_dict               9008138   15995373   22315833   \n",
       "\n",
       "                                                                      \\\n",
       "                                           700        800        900   \n",
       "Operation Representation                                               \n",
       "cols_sums matrix_as_array             10883773   14856932   19837491   \n",
       "          matrix_as_array_of_arrays   11006039   15028130   18675651   \n",
       "          matrix_as_big_tuple          1234684    2388208    3653456   \n",
       "          matrix_as_bit_map          349774361  475854253  589586379   \n",
       "          matrix_as_dict              31890347   42940168   53118754   \n",
       "\n",
       "                                                 \n",
       "                                           1000  \n",
       "Operation Representation                         \n",
       "cols_sums matrix_as_array              32788776  \n",
       "          matrix_as_array_of_arrays    22708192  \n",
       "          matrix_as_big_tuple          11325482  \n",
       "          matrix_as_bit_map          2484937761  \n",
       "          matrix_as_dict               67434534  "
      ]
     },
     "execution_count": 158,
     "metadata": {},
     "output_type": "execute_result"
    }
   ],
   "source": [
    "ColsSums.head()"
   ]
  },
  {
   "cell_type": "markdown",
   "metadata": {},
   "source": [
    "## Columns sums"
   ]
  },
  {
   "cell_type": "code",
   "execution_count": 159,
   "metadata": {},
   "outputs": [],
   "source": [
    "Statistic = ColsSums.agg(lambda x: pd.Series({'f' : x.values}), axis = 1)"
   ]
  },
  {
   "cell_type": "code",
   "execution_count": 160,
   "metadata": {},
   "outputs": [],
   "source": [
    "Statistic['g'] = Statistic.aggregate(lambda x: np.log(x['f']), axis=1)"
   ]
  },
  {
   "cell_type": "code",
   "execution_count": 161,
   "metadata": {},
   "outputs": [],
   "source": [
    "Statistic['dg'] = Statistic.aggregate(lambda x: d_g(x.values[0],100), axis=1)"
   ]
  },
  {
   "cell_type": "code",
   "execution_count": 162,
   "metadata": {},
   "outputs": [],
   "source": [
    "Statistic[['spearmanr_r', 'spearmanr_pval']] = Statistic.aggregate(\\\n",
    "lambda x: sps.spearmanr(range(len(x['dg'])),x['dg']), axis=1).apply(pd.Series)"
   ]
  },
  {
   "cell_type": "code",
   "execution_count": 163,
   "metadata": {},
   "outputs": [],
   "source": [
    "Statistic[['kpss_r', 'kpss_pval']] =\\\n",
    "Statistic.apply(lambda x: stat.kpss(x['dg'], regression='c')[0:2], axis=1).apply(pd.Series)"
   ]
  },
  {
   "cell_type": "code",
   "execution_count": 164,
   "metadata": {},
   "outputs": [],
   "source": [
    "#Statistic[['adf_r', 'adf_pval']] =\\\n",
    "#Statistic.apply(\\\n",
    "#lambda x: stat.adfuller(x['dg'], maxlag=None, regression='c', autolag='AIC')[0:2], axis=1).apply(pd.Series)\n",
    "\n",
    "#ValueError: ('maxlag should be < nobs', 'occurred at index (cols_sums, matrix_as_array)')"
   ]
  },
  {
   "cell_type": "markdown",
   "metadata": {},
   "source": [
    "Augmented Dickey–Fuller test should have more than 7 values to work properly."
   ]
  },
  {
   "cell_type": "code",
   "execution_count": 165,
   "metadata": {},
   "outputs": [],
   "source": [
    "Statistic[['reg_slope', 'reg_intercept', 'reg_rv', 'reg_pval']] = Statistic.aggregate(\\\n",
    "                        lambda x: sps.linregress(np.array(range(len(x['dg'])))+0.000001,x['dg'])[0:4],\\\n",
    "                                                        axis=1).apply(pd.Series)"
   ]
  },
  {
   "cell_type": "code",
   "execution_count": 166,
   "metadata": {},
   "outputs": [],
   "source": [
    "Statistic[['deg_slope', 'deg_intercept', 'deg_rv', 'deg_pval']] = Statistic.aggregate(\\\n",
    "                        lambda x: sps.linregress(np.log(np.array(range(len(x['g'])))+1.01),x['g'])[0:4],\\\n",
    "                                                        axis=1).apply(pd.Series)"
   ]
  },
  {
   "cell_type": "code",
   "execution_count": 167,
   "metadata": {},
   "outputs": [],
   "source": [
    "Statistic[['deg_int_slope']] = np.ceil(Statistic[['deg_slope']])"
   ]
  },
  {
   "cell_type": "code",
   "execution_count": 168,
   "metadata": {},
   "outputs": [],
   "source": [
    "Statistic[['dg_end']] = Statistic.aggregate(lambda x: np.linalg.norm(x['dg'][-4:]),axis=1).apply(pd.Series)"
   ]
  },
  {
   "cell_type": "code",
   "execution_count": 169,
   "metadata": {},
   "outputs": [
    {
     "data": {
      "text/html": [
       "<div>\n",
       "<style scoped>\n",
       "    .dataframe tbody tr th:only-of-type {\n",
       "        vertical-align: middle;\n",
       "    }\n",
       "\n",
       "    .dataframe tbody tr th {\n",
       "        vertical-align: top;\n",
       "    }\n",
       "\n",
       "    .dataframe thead th {\n",
       "        text-align: right;\n",
       "    }\n",
       "</style>\n",
       "<table border=\"1\" class=\"dataframe\">\n",
       "  <thead>\n",
       "    <tr style=\"text-align: right;\">\n",
       "      <th></th>\n",
       "      <th></th>\n",
       "      <th>deg_int_slope</th>\n",
       "      <th>spearmanr_r</th>\n",
       "      <th>spearmanr_pval</th>\n",
       "      <th>kpss_r</th>\n",
       "      <th>kpss_pval</th>\n",
       "      <th>reg_slope</th>\n",
       "      <th>reg_pval</th>\n",
       "      <th>deg_slope</th>\n",
       "      <th>deg_pval</th>\n",
       "      <th>dg_end</th>\n",
       "    </tr>\n",
       "    <tr>\n",
       "      <th>Operation</th>\n",
       "      <th>Representation</th>\n",
       "      <th></th>\n",
       "      <th></th>\n",
       "      <th></th>\n",
       "      <th></th>\n",
       "      <th></th>\n",
       "      <th></th>\n",
       "      <th></th>\n",
       "      <th></th>\n",
       "      <th></th>\n",
       "      <th></th>\n",
       "    </tr>\n",
       "  </thead>\n",
       "  <tbody>\n",
       "    <tr>\n",
       "      <th rowspan=\"16\" valign=\"top\">cols_sums</th>\n",
       "      <th>matrix_as_array</th>\n",
       "      <td>3.0</td>\n",
       "      <td>-0.964286</td>\n",
       "      <td>0.000454</td>\n",
       "      <td>0.571429</td>\n",
       "      <td>0.025579</td>\n",
       "      <td>-0.226003</td>\n",
       "      <td>0.009217</td>\n",
       "      <td>2.271832</td>\n",
       "      <td>1.235562e-11</td>\n",
       "      <td>0.809230</td>\n",
       "    </tr>\n",
       "    <tr>\n",
       "      <th>matrix_as_array_of_arrays</th>\n",
       "      <td>3.0</td>\n",
       "      <td>-0.964286</td>\n",
       "      <td>0.000454</td>\n",
       "      <td>0.571429</td>\n",
       "      <td>0.025579</td>\n",
       "      <td>-0.236036</td>\n",
       "      <td>0.020884</td>\n",
       "      <td>2.130276</td>\n",
       "      <td>3.985739e-13</td>\n",
       "      <td>0.805691</td>\n",
       "    </tr>\n",
       "    <tr>\n",
       "      <th>matrix_as_big_tuple</th>\n",
       "      <td>3.0</td>\n",
       "      <td>-0.392857</td>\n",
       "      <td>0.383317</td>\n",
       "      <td>0.571429</td>\n",
       "      <td>0.025579</td>\n",
       "      <td>-0.120378</td>\n",
       "      <td>0.341448</td>\n",
       "      <td>2.293873</td>\n",
       "      <td>4.931583e-06</td>\n",
       "      <td>1.073191</td>\n",
       "    </tr>\n",
       "    <tr>\n",
       "      <th>matrix_as_bit_map</th>\n",
       "      <td>3.0</td>\n",
       "      <td>-0.678571</td>\n",
       "      <td>0.093750</td>\n",
       "      <td>0.571429</td>\n",
       "      <td>0.025579</td>\n",
       "      <td>-0.306460</td>\n",
       "      <td>0.202703</td>\n",
       "      <td>2.443228</td>\n",
       "      <td>1.751444e-06</td>\n",
       "      <td>2.369779</td>\n",
       "    </tr>\n",
       "    <tr>\n",
       "      <th>matrix_as_dict</th>\n",
       "      <td>3.0</td>\n",
       "      <td>-0.892857</td>\n",
       "      <td>0.006807</td>\n",
       "      <td>0.571429</td>\n",
       "      <td>0.025579</td>\n",
       "      <td>-0.266445</td>\n",
       "      <td>0.003776</td>\n",
       "      <td>2.476448</td>\n",
       "      <td>3.062645e-11</td>\n",
       "      <td>0.922407</td>\n",
       "    </tr>\n",
       "    <tr>\n",
       "      <th>matrix_as_digraph</th>\n",
       "      <td>3.0</td>\n",
       "      <td>-0.750000</td>\n",
       "      <td>0.052181</td>\n",
       "      <td>0.571429</td>\n",
       "      <td>0.025579</td>\n",
       "      <td>-0.280718</td>\n",
       "      <td>0.045400</td>\n",
       "      <td>2.379524</td>\n",
       "      <td>8.360162e-10</td>\n",
       "      <td>1.374765</td>\n",
       "    </tr>\n",
       "    <tr>\n",
       "      <th>matrix_as_ets</th>\n",
       "      <td>4.0</td>\n",
       "      <td>-1.000000</td>\n",
       "      <td>0.000000</td>\n",
       "      <td>0.571429</td>\n",
       "      <td>0.025579</td>\n",
       "      <td>-0.367776</td>\n",
       "      <td>0.002108</td>\n",
       "      <td>3.607034</td>\n",
       "      <td>1.264318e-11</td>\n",
       "      <td>1.251653</td>\n",
       "    </tr>\n",
       "    <tr>\n",
       "      <th>matrix_as_ets_bin</th>\n",
       "      <td>2.0</td>\n",
       "      <td>-0.535714</td>\n",
       "      <td>0.215217</td>\n",
       "      <td>0.571429</td>\n",
       "      <td>0.025579</td>\n",
       "      <td>-0.434525</td>\n",
       "      <td>0.058998</td>\n",
       "      <td>1.900358</td>\n",
       "      <td>2.748773e-05</td>\n",
       "      <td>1.605390</td>\n",
       "    </tr>\n",
       "    <tr>\n",
       "      <th>matrix_as_ets_list</th>\n",
       "      <td>4.0</td>\n",
       "      <td>-1.000000</td>\n",
       "      <td>0.000000</td>\n",
       "      <td>0.571429</td>\n",
       "      <td>0.025579</td>\n",
       "      <td>-0.370429</td>\n",
       "      <td>0.002190</td>\n",
       "      <td>3.615191</td>\n",
       "      <td>2.611982e-11</td>\n",
       "      <td>1.245559</td>\n",
       "    </tr>\n",
       "    <tr>\n",
       "      <th>matrix_as_ext_bit_map</th>\n",
       "      <td>3.0</td>\n",
       "      <td>-0.678571</td>\n",
       "      <td>0.093750</td>\n",
       "      <td>0.571429</td>\n",
       "      <td>0.025579</td>\n",
       "      <td>-0.286740</td>\n",
       "      <td>0.134504</td>\n",
       "      <td>2.454971</td>\n",
       "      <td>1.839272e-07</td>\n",
       "      <td>2.242111</td>\n",
       "    </tr>\n",
       "    <tr>\n",
       "      <th>matrix_as_gb_tree</th>\n",
       "      <td>3.0</td>\n",
       "      <td>-1.000000</td>\n",
       "      <td>0.000000</td>\n",
       "      <td>0.571429</td>\n",
       "      <td>0.025579</td>\n",
       "      <td>-0.226942</td>\n",
       "      <td>0.010558</td>\n",
       "      <td>2.188909</td>\n",
       "      <td>4.270360e-16</td>\n",
       "      <td>0.804812</td>\n",
       "    </tr>\n",
       "    <tr>\n",
       "      <th>matrix_as_list_map</th>\n",
       "      <td>3.0</td>\n",
       "      <td>-1.000000</td>\n",
       "      <td>0.000000</td>\n",
       "      <td>0.571429</td>\n",
       "      <td>0.025579</td>\n",
       "      <td>-0.266079</td>\n",
       "      <td>0.003950</td>\n",
       "      <td>2.427261</td>\n",
       "      <td>1.640106e-12</td>\n",
       "      <td>0.860612</td>\n",
       "    </tr>\n",
       "    <tr>\n",
       "      <th>matrix_as_list_of_lists</th>\n",
       "      <td>3.0</td>\n",
       "      <td>-0.107143</td>\n",
       "      <td>0.819151</td>\n",
       "      <td>0.571429</td>\n",
       "      <td>0.025579</td>\n",
       "      <td>0.045700</td>\n",
       "      <td>0.777611</td>\n",
       "      <td>2.315191</td>\n",
       "      <td>1.289222e-04</td>\n",
       "      <td>2.252140</td>\n",
       "    </tr>\n",
       "    <tr>\n",
       "      <th>matrix_as_map</th>\n",
       "      <td>3.0</td>\n",
       "      <td>-0.678571</td>\n",
       "      <td>0.093750</td>\n",
       "      <td>0.571429</td>\n",
       "      <td>0.025579</td>\n",
       "      <td>-0.233892</td>\n",
       "      <td>0.056686</td>\n",
       "      <td>2.403611</td>\n",
       "      <td>2.037619e-09</td>\n",
       "      <td>1.134917</td>\n",
       "    </tr>\n",
       "    <tr>\n",
       "      <th>matrix_as_sofs</th>\n",
       "      <td>3.0</td>\n",
       "      <td>-1.000000</td>\n",
       "      <td>0.000000</td>\n",
       "      <td>0.571429</td>\n",
       "      <td>0.025579</td>\n",
       "      <td>-0.277363</td>\n",
       "      <td>0.000769</td>\n",
       "      <td>2.579488</td>\n",
       "      <td>3.111891e-08</td>\n",
       "      <td>0.786182</td>\n",
       "    </tr>\n",
       "    <tr>\n",
       "      <th>matrix_as_tuple_of_tuples</th>\n",
       "      <td>3.0</td>\n",
       "      <td>-0.642857</td>\n",
       "      <td>0.119392</td>\n",
       "      <td>0.571429</td>\n",
       "      <td>0.025579</td>\n",
       "      <td>-0.098885</td>\n",
       "      <td>0.116667</td>\n",
       "      <td>2.285911</td>\n",
       "      <td>1.695265e-06</td>\n",
       "      <td>1.155147</td>\n",
       "    </tr>\n",
       "  </tbody>\n",
       "</table>\n",
       "</div>"
      ],
      "text/plain": [
       "                                     deg_int_slope  spearmanr_r  \\\n",
       "Operation Representation                                          \n",
       "cols_sums matrix_as_array                      3.0    -0.964286   \n",
       "          matrix_as_array_of_arrays            3.0    -0.964286   \n",
       "          matrix_as_big_tuple                  3.0    -0.392857   \n",
       "          matrix_as_bit_map                    3.0    -0.678571   \n",
       "          matrix_as_dict                       3.0    -0.892857   \n",
       "          matrix_as_digraph                    3.0    -0.750000   \n",
       "          matrix_as_ets                        4.0    -1.000000   \n",
       "          matrix_as_ets_bin                    2.0    -0.535714   \n",
       "          matrix_as_ets_list                   4.0    -1.000000   \n",
       "          matrix_as_ext_bit_map                3.0    -0.678571   \n",
       "          matrix_as_gb_tree                    3.0    -1.000000   \n",
       "          matrix_as_list_map                   3.0    -1.000000   \n",
       "          matrix_as_list_of_lists              3.0    -0.107143   \n",
       "          matrix_as_map                        3.0    -0.678571   \n",
       "          matrix_as_sofs                       3.0    -1.000000   \n",
       "          matrix_as_tuple_of_tuples            3.0    -0.642857   \n",
       "\n",
       "                                     spearmanr_pval    kpss_r  kpss_pval  \\\n",
       "Operation Representation                                                   \n",
       "cols_sums matrix_as_array                  0.000454  0.571429   0.025579   \n",
       "          matrix_as_array_of_arrays        0.000454  0.571429   0.025579   \n",
       "          matrix_as_big_tuple              0.383317  0.571429   0.025579   \n",
       "          matrix_as_bit_map                0.093750  0.571429   0.025579   \n",
       "          matrix_as_dict                   0.006807  0.571429   0.025579   \n",
       "          matrix_as_digraph                0.052181  0.571429   0.025579   \n",
       "          matrix_as_ets                    0.000000  0.571429   0.025579   \n",
       "          matrix_as_ets_bin                0.215217  0.571429   0.025579   \n",
       "          matrix_as_ets_list               0.000000  0.571429   0.025579   \n",
       "          matrix_as_ext_bit_map            0.093750  0.571429   0.025579   \n",
       "          matrix_as_gb_tree                0.000000  0.571429   0.025579   \n",
       "          matrix_as_list_map               0.000000  0.571429   0.025579   \n",
       "          matrix_as_list_of_lists          0.819151  0.571429   0.025579   \n",
       "          matrix_as_map                    0.093750  0.571429   0.025579   \n",
       "          matrix_as_sofs                   0.000000  0.571429   0.025579   \n",
       "          matrix_as_tuple_of_tuples        0.119392  0.571429   0.025579   \n",
       "\n",
       "                                     reg_slope  reg_pval  deg_slope  \\\n",
       "Operation Representation                                              \n",
       "cols_sums matrix_as_array            -0.226003  0.009217   2.271832   \n",
       "          matrix_as_array_of_arrays  -0.236036  0.020884   2.130276   \n",
       "          matrix_as_big_tuple        -0.120378  0.341448   2.293873   \n",
       "          matrix_as_bit_map          -0.306460  0.202703   2.443228   \n",
       "          matrix_as_dict             -0.266445  0.003776   2.476448   \n",
       "          matrix_as_digraph          -0.280718  0.045400   2.379524   \n",
       "          matrix_as_ets              -0.367776  0.002108   3.607034   \n",
       "          matrix_as_ets_bin          -0.434525  0.058998   1.900358   \n",
       "          matrix_as_ets_list         -0.370429  0.002190   3.615191   \n",
       "          matrix_as_ext_bit_map      -0.286740  0.134504   2.454971   \n",
       "          matrix_as_gb_tree          -0.226942  0.010558   2.188909   \n",
       "          matrix_as_list_map         -0.266079  0.003950   2.427261   \n",
       "          matrix_as_list_of_lists     0.045700  0.777611   2.315191   \n",
       "          matrix_as_map              -0.233892  0.056686   2.403611   \n",
       "          matrix_as_sofs             -0.277363  0.000769   2.579488   \n",
       "          matrix_as_tuple_of_tuples  -0.098885  0.116667   2.285911   \n",
       "\n",
       "                                         deg_pval    dg_end  \n",
       "Operation Representation                                     \n",
       "cols_sums matrix_as_array            1.235562e-11  0.809230  \n",
       "          matrix_as_array_of_arrays  3.985739e-13  0.805691  \n",
       "          matrix_as_big_tuple        4.931583e-06  1.073191  \n",
       "          matrix_as_bit_map          1.751444e-06  2.369779  \n",
       "          matrix_as_dict             3.062645e-11  0.922407  \n",
       "          matrix_as_digraph          8.360162e-10  1.374765  \n",
       "          matrix_as_ets              1.264318e-11  1.251653  \n",
       "          matrix_as_ets_bin          2.748773e-05  1.605390  \n",
       "          matrix_as_ets_list         2.611982e-11  1.245559  \n",
       "          matrix_as_ext_bit_map      1.839272e-07  2.242111  \n",
       "          matrix_as_gb_tree          4.270360e-16  0.804812  \n",
       "          matrix_as_list_map         1.640106e-12  0.860612  \n",
       "          matrix_as_list_of_lists    1.289222e-04  2.252140  \n",
       "          matrix_as_map              2.037619e-09  1.134917  \n",
       "          matrix_as_sofs             3.111891e-08  0.786182  \n",
       "          matrix_as_tuple_of_tuples  1.695265e-06  1.155147  "
      ]
     },
     "execution_count": 169,
     "metadata": {},
     "output_type": "execute_result"
    }
   ],
   "source": [
    "Statistic[['deg_int_slope', 'spearmanr_r', 'spearmanr_pval', 'kpss_r', 'kpss_pval', 'reg_slope', 'reg_pval',\\\n",
    "           'deg_slope', 'deg_pval', 'dg_end']]"
   ]
  },
  {
   "cell_type": "markdown",
   "metadata": {},
   "source": [
    "Lets limit our results to representations that have $g$ monotonicly decreasing."
   ]
  },
  {
   "cell_type": "code",
   "execution_count": 170,
   "metadata": {},
   "outputs": [
    {
     "data": {
      "text/html": [
       "<div>\n",
       "<style scoped>\n",
       "    .dataframe tbody tr th:only-of-type {\n",
       "        vertical-align: middle;\n",
       "    }\n",
       "\n",
       "    .dataframe tbody tr th {\n",
       "        vertical-align: top;\n",
       "    }\n",
       "\n",
       "    .dataframe thead th {\n",
       "        text-align: right;\n",
       "    }\n",
       "</style>\n",
       "<table border=\"1\" class=\"dataframe\">\n",
       "  <thead>\n",
       "    <tr style=\"text-align: right;\">\n",
       "      <th></th>\n",
       "      <th></th>\n",
       "      <th>deg_int_slope</th>\n",
       "      <th>spearmanr_r</th>\n",
       "      <th>spearmanr_pval</th>\n",
       "      <th>reg_slope</th>\n",
       "      <th>reg_pval</th>\n",
       "      <th>dg_end</th>\n",
       "    </tr>\n",
       "    <tr>\n",
       "      <th>Operation</th>\n",
       "      <th>Representation</th>\n",
       "      <th></th>\n",
       "      <th></th>\n",
       "      <th></th>\n",
       "      <th></th>\n",
       "      <th></th>\n",
       "      <th></th>\n",
       "    </tr>\n",
       "  </thead>\n",
       "  <tbody>\n",
       "    <tr>\n",
       "      <th rowspan=\"8\" valign=\"top\">cols_sums</th>\n",
       "      <th>matrix_as_array</th>\n",
       "      <td>3.0</td>\n",
       "      <td>-0.964286</td>\n",
       "      <td>0.000454</td>\n",
       "      <td>-0.226003</td>\n",
       "      <td>0.009217</td>\n",
       "      <td>0.809230</td>\n",
       "    </tr>\n",
       "    <tr>\n",
       "      <th>matrix_as_array_of_arrays</th>\n",
       "      <td>3.0</td>\n",
       "      <td>-0.964286</td>\n",
       "      <td>0.000454</td>\n",
       "      <td>-0.236036</td>\n",
       "      <td>0.020884</td>\n",
       "      <td>0.805691</td>\n",
       "    </tr>\n",
       "    <tr>\n",
       "      <th>matrix_as_dict</th>\n",
       "      <td>3.0</td>\n",
       "      <td>-0.892857</td>\n",
       "      <td>0.006807</td>\n",
       "      <td>-0.266445</td>\n",
       "      <td>0.003776</td>\n",
       "      <td>0.922407</td>\n",
       "    </tr>\n",
       "    <tr>\n",
       "      <th>matrix_as_ets</th>\n",
       "      <td>4.0</td>\n",
       "      <td>-1.000000</td>\n",
       "      <td>0.000000</td>\n",
       "      <td>-0.367776</td>\n",
       "      <td>0.002108</td>\n",
       "      <td>1.251653</td>\n",
       "    </tr>\n",
       "    <tr>\n",
       "      <th>matrix_as_ets_list</th>\n",
       "      <td>4.0</td>\n",
       "      <td>-1.000000</td>\n",
       "      <td>0.000000</td>\n",
       "      <td>-0.370429</td>\n",
       "      <td>0.002190</td>\n",
       "      <td>1.245559</td>\n",
       "    </tr>\n",
       "    <tr>\n",
       "      <th>matrix_as_gb_tree</th>\n",
       "      <td>3.0</td>\n",
       "      <td>-1.000000</td>\n",
       "      <td>0.000000</td>\n",
       "      <td>-0.226942</td>\n",
       "      <td>0.010558</td>\n",
       "      <td>0.804812</td>\n",
       "    </tr>\n",
       "    <tr>\n",
       "      <th>matrix_as_list_map</th>\n",
       "      <td>3.0</td>\n",
       "      <td>-1.000000</td>\n",
       "      <td>0.000000</td>\n",
       "      <td>-0.266079</td>\n",
       "      <td>0.003950</td>\n",
       "      <td>0.860612</td>\n",
       "    </tr>\n",
       "    <tr>\n",
       "      <th>matrix_as_sofs</th>\n",
       "      <td>3.0</td>\n",
       "      <td>-1.000000</td>\n",
       "      <td>0.000000</td>\n",
       "      <td>-0.277363</td>\n",
       "      <td>0.000769</td>\n",
       "      <td>0.786182</td>\n",
       "    </tr>\n",
       "  </tbody>\n",
       "</table>\n",
       "</div>"
      ],
      "text/plain": [
       "                                     deg_int_slope  spearmanr_r  \\\n",
       "Operation Representation                                          \n",
       "cols_sums matrix_as_array                      3.0    -0.964286   \n",
       "          matrix_as_array_of_arrays            3.0    -0.964286   \n",
       "          matrix_as_dict                       3.0    -0.892857   \n",
       "          matrix_as_ets                        4.0    -1.000000   \n",
       "          matrix_as_ets_list                   4.0    -1.000000   \n",
       "          matrix_as_gb_tree                    3.0    -1.000000   \n",
       "          matrix_as_list_map                   3.0    -1.000000   \n",
       "          matrix_as_sofs                       3.0    -1.000000   \n",
       "\n",
       "                                     spearmanr_pval  reg_slope  reg_pval  \\\n",
       "Operation Representation                                                   \n",
       "cols_sums matrix_as_array                  0.000454  -0.226003  0.009217   \n",
       "          matrix_as_array_of_arrays        0.000454  -0.236036  0.020884   \n",
       "          matrix_as_dict                   0.006807  -0.266445  0.003776   \n",
       "          matrix_as_ets                    0.000000  -0.367776  0.002108   \n",
       "          matrix_as_ets_list               0.000000  -0.370429  0.002190   \n",
       "          matrix_as_gb_tree                0.000000  -0.226942  0.010558   \n",
       "          matrix_as_list_map               0.000000  -0.266079  0.003950   \n",
       "          matrix_as_sofs                   0.000000  -0.277363  0.000769   \n",
       "\n",
       "                                       dg_end  \n",
       "Operation Representation                       \n",
       "cols_sums matrix_as_array            0.809230  \n",
       "          matrix_as_array_of_arrays  0.805691  \n",
       "          matrix_as_dict             0.922407  \n",
       "          matrix_as_ets              1.251653  \n",
       "          matrix_as_ets_list         1.245559  \n",
       "          matrix_as_gb_tree          0.804812  \n",
       "          matrix_as_list_map         0.860612  \n",
       "          matrix_as_sofs             0.786182  "
      ]
     },
     "execution_count": 170,
     "metadata": {},
     "output_type": "execute_result"
    }
   ],
   "source": [
    "Statistic.loc[(Statistic['spearmanr_pval']<0.05, Statistic['spearmanr_r']<0.0),\\\n",
    "              ['deg_int_slope', 'spearmanr_r', 'spearmanr_pval', 'reg_slope', 'reg_pval', 'dg_end']]"
   ]
  },
  {
   "cell_type": "markdown",
   "metadata": {},
   "source": [
    "And check derivate of the $g$ closes to $0$."
   ]
  },
  {
   "cell_type": "code",
   "execution_count": 171,
   "metadata": {},
   "outputs": [
    {
     "data": {
      "text/html": [
       "<div>\n",
       "<style scoped>\n",
       "    .dataframe tbody tr th:only-of-type {\n",
       "        vertical-align: middle;\n",
       "    }\n",
       "\n",
       "    .dataframe tbody tr th {\n",
       "        vertical-align: top;\n",
       "    }\n",
       "\n",
       "    .dataframe thead th {\n",
       "        text-align: right;\n",
       "    }\n",
       "</style>\n",
       "<table border=\"1\" class=\"dataframe\">\n",
       "  <thead>\n",
       "    <tr style=\"text-align: right;\">\n",
       "      <th></th>\n",
       "      <th></th>\n",
       "      <th>deg_int_slope</th>\n",
       "      <th>spearmanr_r</th>\n",
       "      <th>spearmanr_pval</th>\n",
       "      <th>reg_slope</th>\n",
       "      <th>reg_pval</th>\n",
       "      <th>dg_end</th>\n",
       "    </tr>\n",
       "    <tr>\n",
       "      <th>Operation</th>\n",
       "      <th>Representation</th>\n",
       "      <th></th>\n",
       "      <th></th>\n",
       "      <th></th>\n",
       "      <th></th>\n",
       "      <th></th>\n",
       "      <th></th>\n",
       "    </tr>\n",
       "  </thead>\n",
       "  <tbody>\n",
       "  </tbody>\n",
       "</table>\n",
       "</div>"
      ],
      "text/plain": [
       "Empty DataFrame\n",
       "Columns: [deg_int_slope, spearmanr_r, spearmanr_pval, reg_slope, reg_pval, dg_end]\n",
       "Index: []"
      ]
     },
     "execution_count": 171,
     "metadata": {},
     "output_type": "execute_result"
    }
   ],
   "source": [
    "Statistic.loc[(Statistic['dg_end']<0.01),\\\n",
    "              ['deg_int_slope', 'spearmanr_r', 'spearmanr_pval', 'reg_slope', 'reg_pval', 'dg_end' ]]"
   ]
  },
  {
   "cell_type": "markdown",
   "metadata": {},
   "source": [
    "We have a few candidates for less than exponetial growth (which is impressive since matrices grow in quadratic matter and we need to traverse all elements). The maximal slope suggest that we should try up to $5$th derivate, to check if we can get polynomial."
   ]
  },
  {
   "cell_type": "markdown",
   "metadata": {},
   "source": [
    "The $f$ has 10 data points and we need $5$th derivate so we need 5 sample point in stencil method."
   ]
  },
  {
   "cell_type": "code",
   "execution_count": 172,
   "metadata": {},
   "outputs": [],
   "source": [
    "def df_1(f,h):\n",
    "    f = np.float64(f)\n",
    "    h = np.float64(h)\n",
    "    df = lambda f, h:((-137*f[0]+300*f[1]-300*f[2]+200*f[3]-75*f[4]+12*f[5])/(60*1.0*h))\n",
    "    return [df(f[j:j+6], 1) for j in range(0,f.size-6)]"
   ]
  },
  {
   "cell_type": "code",
   "execution_count": 173,
   "metadata": {},
   "outputs": [],
   "source": [
    "def df_2(f,h):\n",
    "    f = np.float64(f)\n",
    "    h = np.float64(h)\n",
    "    df = lambda f, h:((45*f[0]-154*f[1]+214*f[2]-156*f[3]+61*f[4]-10*f[5])/(12*1.0*np.power(h,2)))\n",
    "    return [df(f[j:j+6], 1) for j in range(0,f.size-6)]"
   ]
  },
  {
   "cell_type": "code",
   "execution_count": 174,
   "metadata": {},
   "outputs": [],
   "source": [
    "def df_3(f,h):\n",
    "    f = np.float64(f)\n",
    "    h = np.float64(h)\n",
    "    df = lambda f, h:((-17*f[0]+71*f[1]-118*f[2]+98*f[3]-41*f[4]+7*f[5])/(4*1.0*np.power(h,3)))\n",
    "    return [df(f[j:j+6], 1) for j in range(0,f.size-6)]"
   ]
  },
  {
   "cell_type": "code",
   "execution_count": 175,
   "metadata": {},
   "outputs": [],
   "source": [
    "def df_4(f,h):\n",
    "    f = np.float64(f)\n",
    "    h = np.float64(h)\n",
    "    df = lambda f, h:((3*f[0]-14*f[1]+26*f[2]-24*f[3]+11*f[4]-2*f[5])/(1*1.0*np.power(h,4)))\n",
    "    return [df(f[j:j+6], 1) for j in range(0,f.size-6)]"
   ]
  },
  {
   "cell_type": "code",
   "execution_count": 176,
   "metadata": {},
   "outputs": [],
   "source": [
    "def df_5(f,h):\n",
    "    f = np.float64(f)\n",
    "    h = np.float64(h)\n",
    "    df = lambda f, h:((-1*f[0]+5*f[1]-10*f[2]+10*f[3]-5*f[4]+1*f[5])/(1*1.0*np.power(h,5)))\n",
    "    return [df(f[j:j+6], 1) for j in range(0,f.size-6)]"
   ]
  },
  {
   "cell_type": "code",
   "execution_count": 177,
   "metadata": {},
   "outputs": [],
   "source": [
    "Statistic['df_1'] = Statistic.aggregate(lambda x: df_1(x['f'],100),axis=1)\n",
    "Statistic['df_2'] = Statistic.aggregate(lambda x: df_2(x['f'],100),axis=1)\n",
    "Statistic['df_3'] = Statistic.aggregate(lambda x: df_3(x['f'],100),axis=1)\n",
    "Statistic['df_4'] = Statistic.aggregate(lambda x: df_4(x['f'],100),axis=1)\n",
    "Statistic['df_5'] = Statistic.aggregate(lambda x: df_5(x['f'],100),axis=1)"
   ]
  },
  {
   "cell_type": "code",
   "execution_count": 178,
   "metadata": {},
   "outputs": [],
   "source": [
    "Statistic['df_45'] = Statistic.apply(lambda x: np.divide(x['df_5'],x['df_4']),axis=1)\n",
    "Statistic['df_34'] = Statistic.apply(lambda x: np.divide(x['df_4'],x['df_3']),axis=1)\n",
    "Statistic['df_23'] = Statistic.apply(lambda x: np.divide(x['df_3'],x['df_2']),axis=1)"
   ]
  },
  {
   "cell_type": "code",
   "execution_count": 179,
   "metadata": {},
   "outputs": [
    {
     "data": {
      "text/plain": [
       "Operation  Representation           \n",
       "cols_sums  matrix_as_array               1.857831\n",
       "           matrix_as_array_of_arrays     1.994941\n",
       "           matrix_as_big_tuple           1.680135\n",
       "           matrix_as_bit_map             1.902769\n",
       "           matrix_as_dict                1.855826\n",
       "           matrix_as_digraph             1.825195\n",
       "           matrix_as_ets                 1.905938\n",
       "           matrix_as_ets_bin             1.834722\n",
       "           matrix_as_ets_list            1.730902\n",
       "           matrix_as_ext_bit_map         1.905516\n",
       "           matrix_as_gb_tree             1.772036\n",
       "           matrix_as_list_map            1.660134\n",
       "           matrix_as_list_of_lists       2.027784\n",
       "           matrix_as_map                 2.250369\n",
       "           matrix_as_sofs               39.678741\n",
       "           matrix_as_tuple_of_tuples     1.938516\n",
       "dtype: float64"
      ]
     },
     "execution_count": 179,
     "metadata": {},
     "output_type": "execute_result"
    }
   ],
   "source": [
    "Statistic.aggregate(lambda x: np.linalg.norm(x['df_34']),axis=1)"
   ]
  },
  {
   "cell_type": "code",
   "execution_count": 180,
   "metadata": {},
   "outputs": [
    {
     "data": {
      "text/plain": [
       "Operation  Representation           \n",
       "cols_sums  matrix_as_array              0.807952\n",
       "           matrix_as_array_of_arrays    0.843554\n",
       "           matrix_as_big_tuple          0.930799\n",
       "           matrix_as_bit_map            0.818151\n",
       "           matrix_as_dict               0.800525\n",
       "           matrix_as_digraph            0.789680\n",
       "           matrix_as_ets                0.814233\n",
       "           matrix_as_ets_bin            0.800354\n",
       "           matrix_as_ets_list           0.912585\n",
       "           matrix_as_ext_bit_map        0.823196\n",
       "           matrix_as_gb_tree            0.791692\n",
       "           matrix_as_list_map           4.470228\n",
       "           matrix_as_list_of_lists      0.876517\n",
       "           matrix_as_map                0.877562\n",
       "           matrix_as_sofs               0.974298\n",
       "           matrix_as_tuple_of_tuples    0.808146\n",
       "dtype: float64"
      ]
     },
     "execution_count": 180,
     "metadata": {},
     "output_type": "execute_result"
    }
   ],
   "source": [
    "Statistic.aggregate(lambda x: np.linalg.norm(x['df_45']),axis=1)"
   ]
  },
  {
   "cell_type": "markdown",
   "metadata": {},
   "source": [
    "Nothing close to $0$ here. We shouldn't expect other result anyway, since we actually calcualte $n$ sums of $n$ elements.\n",
    "\n",
    "I would consider: matrix_as_ets_list and matrix_as_ets representaions as the winners here."
   ]
  },
  {
   "cell_type": "markdown",
   "metadata": {},
   "source": [
    "## Rows sums"
   ]
  },
  {
   "cell_type": "code",
   "execution_count": 181,
   "metadata": {},
   "outputs": [],
   "source": [
    "Statistic = RowsSums.agg(lambda x: pd.Series({'f' : x.values}), axis = 1)"
   ]
  },
  {
   "cell_type": "code",
   "execution_count": 182,
   "metadata": {},
   "outputs": [
    {
     "data": {
      "text/html": [
       "<div>\n",
       "<style scoped>\n",
       "    .dataframe tbody tr th:only-of-type {\n",
       "        vertical-align: middle;\n",
       "    }\n",
       "\n",
       "    .dataframe tbody tr th {\n",
       "        vertical-align: top;\n",
       "    }\n",
       "\n",
       "    .dataframe thead th {\n",
       "        text-align: right;\n",
       "    }\n",
       "</style>\n",
       "<table border=\"1\" class=\"dataframe\">\n",
       "  <thead>\n",
       "    <tr style=\"text-align: right;\">\n",
       "      <th></th>\n",
       "      <th></th>\n",
       "      <th>deg_int_slope</th>\n",
       "      <th>spearmanr_r</th>\n",
       "      <th>spearmanr_pval</th>\n",
       "      <th>reg_slope</th>\n",
       "      <th>reg_pval</th>\n",
       "      <th>dg_end</th>\n",
       "    </tr>\n",
       "    <tr>\n",
       "      <th>Operation</th>\n",
       "      <th>Representation</th>\n",
       "      <th></th>\n",
       "      <th></th>\n",
       "      <th></th>\n",
       "      <th></th>\n",
       "      <th></th>\n",
       "      <th></th>\n",
       "    </tr>\n",
       "  </thead>\n",
       "  <tbody>\n",
       "    <tr>\n",
       "      <th rowspan=\"8\" valign=\"top\">rows_sums</th>\n",
       "      <th>matrix_as_array_of_arrays</th>\n",
       "      <td>2.0</td>\n",
       "      <td>-0.964286</td>\n",
       "      <td>0.000454</td>\n",
       "      <td>-0.160786</td>\n",
       "      <td>0.003852</td>\n",
       "      <td>0.765682</td>\n",
       "    </tr>\n",
       "    <tr>\n",
       "      <th>matrix_as_dict</th>\n",
       "      <td>3.0</td>\n",
       "      <td>-0.821429</td>\n",
       "      <td>0.023449</td>\n",
       "      <td>-0.240744</td>\n",
       "      <td>0.011572</td>\n",
       "      <td>1.111041</td>\n",
       "    </tr>\n",
       "    <tr>\n",
       "      <th>matrix_as_digraph</th>\n",
       "      <td>3.0</td>\n",
       "      <td>-0.821429</td>\n",
       "      <td>0.023449</td>\n",
       "      <td>-0.251721</td>\n",
       "      <td>0.068895</td>\n",
       "      <td>1.610392</td>\n",
       "    </tr>\n",
       "    <tr>\n",
       "      <th>matrix_as_ets</th>\n",
       "      <td>4.0</td>\n",
       "      <td>-1.000000</td>\n",
       "      <td>0.000000</td>\n",
       "      <td>-0.358523</td>\n",
       "      <td>0.002351</td>\n",
       "      <td>1.227026</td>\n",
       "    </tr>\n",
       "    <tr>\n",
       "      <th>matrix_as_ets_list</th>\n",
       "      <td>4.0</td>\n",
       "      <td>-1.000000</td>\n",
       "      <td>0.000000</td>\n",
       "      <td>-0.369579</td>\n",
       "      <td>0.002646</td>\n",
       "      <td>1.255817</td>\n",
       "    </tr>\n",
       "    <tr>\n",
       "      <th>matrix_as_gb_tree</th>\n",
       "      <td>3.0</td>\n",
       "      <td>-0.964286</td>\n",
       "      <td>0.000454</td>\n",
       "      <td>-0.247141</td>\n",
       "      <td>0.012199</td>\n",
       "      <td>0.900924</td>\n",
       "    </tr>\n",
       "    <tr>\n",
       "      <th>matrix_as_list_map</th>\n",
       "      <td>3.0</td>\n",
       "      <td>-1.000000</td>\n",
       "      <td>0.000000</td>\n",
       "      <td>-0.256175</td>\n",
       "      <td>0.011264</td>\n",
       "      <td>0.863774</td>\n",
       "    </tr>\n",
       "    <tr>\n",
       "      <th>matrix_as_tuple_of_tuples</th>\n",
       "      <td>2.0</td>\n",
       "      <td>-1.000000</td>\n",
       "      <td>0.000000</td>\n",
       "      <td>-0.200711</td>\n",
       "      <td>0.009798</td>\n",
       "      <td>0.762857</td>\n",
       "    </tr>\n",
       "  </tbody>\n",
       "</table>\n",
       "</div>"
      ],
      "text/plain": [
       "                                     deg_int_slope  spearmanr_r  \\\n",
       "Operation Representation                                          \n",
       "rows_sums matrix_as_array_of_arrays            2.0    -0.964286   \n",
       "          matrix_as_dict                       3.0    -0.821429   \n",
       "          matrix_as_digraph                    3.0    -0.821429   \n",
       "          matrix_as_ets                        4.0    -1.000000   \n",
       "          matrix_as_ets_list                   4.0    -1.000000   \n",
       "          matrix_as_gb_tree                    3.0    -0.964286   \n",
       "          matrix_as_list_map                   3.0    -1.000000   \n",
       "          matrix_as_tuple_of_tuples            2.0    -1.000000   \n",
       "\n",
       "                                     spearmanr_pval  reg_slope  reg_pval  \\\n",
       "Operation Representation                                                   \n",
       "rows_sums matrix_as_array_of_arrays        0.000454  -0.160786  0.003852   \n",
       "          matrix_as_dict                   0.023449  -0.240744  0.011572   \n",
       "          matrix_as_digraph                0.023449  -0.251721  0.068895   \n",
       "          matrix_as_ets                    0.000000  -0.358523  0.002351   \n",
       "          matrix_as_ets_list               0.000000  -0.369579  0.002646   \n",
       "          matrix_as_gb_tree                0.000454  -0.247141  0.012199   \n",
       "          matrix_as_list_map               0.000000  -0.256175  0.011264   \n",
       "          matrix_as_tuple_of_tuples        0.000000  -0.200711  0.009798   \n",
       "\n",
       "                                       dg_end  \n",
       "Operation Representation                       \n",
       "rows_sums matrix_as_array_of_arrays  0.765682  \n",
       "          matrix_as_dict             1.111041  \n",
       "          matrix_as_digraph          1.610392  \n",
       "          matrix_as_ets              1.227026  \n",
       "          matrix_as_ets_list         1.255817  \n",
       "          matrix_as_gb_tree          0.900924  \n",
       "          matrix_as_list_map         0.863774  \n",
       "          matrix_as_tuple_of_tuples  0.762857  "
      ]
     },
     "execution_count": 182,
     "metadata": {},
     "output_type": "execute_result"
    }
   ],
   "source": [
    "Statistic['g'] = Statistic.aggregate(lambda x: np.log(x['f']), axis=1)\n",
    "Statistic['dg'] = Statistic.aggregate(lambda x: d_g(x.values[0],100), axis=1)\n",
    "Statistic[['spearmanr_r', 'spearmanr_pval']] = Statistic.aggregate(\\\n",
    "lambda x: sps.spearmanr(range(len(x['dg'])),x['dg']), axis=1).apply(pd.Series)\n",
    "Statistic[['kpss_r', 'kpss_pval']] =\\\n",
    "Statistic.apply(lambda x: stat.kpss(x['dg'], regression='c')[0:2], axis=1).apply(pd.Series)\n",
    "Statistic[['reg_slope', 'reg_intercept', 'reg_rv', 'reg_pval']] = Statistic.aggregate(\\\n",
    "                        lambda x: sps.linregress(np.array(range(len(x['dg'])))+0.000001,x['dg'])[0:4],\\\n",
    "                                                        axis=1).apply(pd.Series)\n",
    "Statistic[['deg_slope', 'deg_intercept', 'deg_rv', 'deg_pval']] = Statistic.aggregate(\\\n",
    "                        lambda x: sps.linregress(np.log(np.array(range(len(x['g'])))+1.01),x['g'])[0:4],\\\n",
    "                                                        axis=1).apply(pd.Series)\n",
    "Statistic[['deg_int_slope']] = np.ceil(Statistic[['deg_slope']])\n",
    "Statistic[['dg_end']] = Statistic.aggregate(lambda x: np.linalg.norm(x['dg'][-4:]),axis=1).apply(pd.Series)\n",
    "Statistic.loc[(Statistic['spearmanr_pval']<0.05, Statistic['spearmanr_r']<0.0),\\\n",
    "              ['deg_int_slope', 'spearmanr_r', 'spearmanr_pval', 'reg_slope', 'reg_pval', 'dg_end']]"
   ]
  },
  {
   "cell_type": "code",
   "execution_count": 183,
   "metadata": {},
   "outputs": [
    {
     "data": {
      "text/html": [
       "<div>\n",
       "<style scoped>\n",
       "    .dataframe tbody tr th:only-of-type {\n",
       "        vertical-align: middle;\n",
       "    }\n",
       "\n",
       "    .dataframe tbody tr th {\n",
       "        vertical-align: top;\n",
       "    }\n",
       "\n",
       "    .dataframe thead th {\n",
       "        text-align: right;\n",
       "    }\n",
       "</style>\n",
       "<table border=\"1\" class=\"dataframe\">\n",
       "  <thead>\n",
       "    <tr style=\"text-align: right;\">\n",
       "      <th></th>\n",
       "      <th></th>\n",
       "      <th>deg_int_slope</th>\n",
       "      <th>spearmanr_r</th>\n",
       "      <th>spearmanr_pval</th>\n",
       "      <th>reg_slope</th>\n",
       "      <th>reg_pval</th>\n",
       "      <th>dg_end</th>\n",
       "    </tr>\n",
       "    <tr>\n",
       "      <th>Operation</th>\n",
       "      <th>Representation</th>\n",
       "      <th></th>\n",
       "      <th></th>\n",
       "      <th></th>\n",
       "      <th></th>\n",
       "      <th></th>\n",
       "      <th></th>\n",
       "    </tr>\n",
       "  </thead>\n",
       "  <tbody>\n",
       "  </tbody>\n",
       "</table>\n",
       "</div>"
      ],
      "text/plain": [
       "Empty DataFrame\n",
       "Columns: [deg_int_slope, spearmanr_r, spearmanr_pval, reg_slope, reg_pval, dg_end]\n",
       "Index: []"
      ]
     },
     "execution_count": 183,
     "metadata": {},
     "output_type": "execute_result"
    }
   ],
   "source": [
    "Statistic.loc[(Statistic['dg_end']<0.01),\\\n",
    "              ['deg_int_slope', 'spearmanr_r', 'spearmanr_pval', 'reg_slope', 'reg_pval', 'dg_end' ]]"
   ]
  },
  {
   "cell_type": "code",
   "execution_count": 184,
   "metadata": {},
   "outputs": [],
   "source": [
    "Statistic['df_1'] = Statistic.aggregate(lambda x: df_1(x['f'],100),axis=1)\n",
    "Statistic['df_2'] = Statistic.aggregate(lambda x: df_2(x['f'],100),axis=1)\n",
    "Statistic['df_3'] = Statistic.aggregate(lambda x: df_3(x['f'],100),axis=1)\n",
    "Statistic['df_4'] = Statistic.aggregate(lambda x: df_4(x['f'],100),axis=1)\n",
    "Statistic['df_5'] = Statistic.aggregate(lambda x: df_5(x['f'],100),axis=1)"
   ]
  },
  {
   "cell_type": "code",
   "execution_count": 185,
   "metadata": {},
   "outputs": [],
   "source": [
    "Statistic['df_45'] = Statistic.apply(lambda x: np.divide(x['df_5'],x['df_4']),axis=1)\n",
    "Statistic['df_34'] = Statistic.apply(lambda x: np.divide(x['df_4'],x['df_3']),axis=1)\n",
    "Statistic['df_23'] = Statistic.apply(lambda x: np.divide(x['df_3'],x['df_2']),axis=1)"
   ]
  },
  {
   "cell_type": "code",
   "execution_count": 186,
   "metadata": {},
   "outputs": [
    {
     "data": {
      "text/plain": [
       "Operation  Representation           \n",
       "rows_sums  matrix_as_array              2.613959\n",
       "           matrix_as_array_of_arrays    2.028645\n",
       "           matrix_as_big_tuple          1.952124\n",
       "           matrix_as_bit_map            2.319883\n",
       "           matrix_as_dict               1.778336\n",
       "           matrix_as_digraph            2.805228\n",
       "           matrix_as_ets                2.002838\n",
       "           matrix_as_ets_bin            1.767660\n",
       "           matrix_as_ets_list           1.693608\n",
       "           matrix_as_ext_bit_map        1.842619\n",
       "           matrix_as_gb_tree            2.123571\n",
       "           matrix_as_list_map           2.223922\n",
       "           matrix_as_list_of_lists      2.046762\n",
       "           matrix_as_map                2.122551\n",
       "           matrix_as_sofs               1.917065\n",
       "           matrix_as_tuple_of_tuples    1.660016\n",
       "dtype: float64"
      ]
     },
     "execution_count": 186,
     "metadata": {},
     "output_type": "execute_result"
    }
   ],
   "source": [
    "Statistic.aggregate(lambda x: np.linalg.norm(x['df_34']),axis=1)"
   ]
  },
  {
   "cell_type": "code",
   "execution_count": 187,
   "metadata": {},
   "outputs": [
    {
     "data": {
      "text/plain": [
       "Operation  Representation           \n",
       "rows_sums  matrix_as_array              0.985994\n",
       "           matrix_as_array_of_arrays    0.897879\n",
       "           matrix_as_big_tuple          0.855578\n",
       "           matrix_as_bit_map            0.943127\n",
       "           matrix_as_dict               0.758392\n",
       "           matrix_as_digraph            0.903289\n",
       "           matrix_as_ets                0.847879\n",
       "           matrix_as_ets_bin            0.776313\n",
       "           matrix_as_ets_list           0.887177\n",
       "           matrix_as_ext_bit_map        0.792262\n",
       "           matrix_as_gb_tree            0.882869\n",
       "           matrix_as_list_map           0.816029\n",
       "           matrix_as_list_of_lists      0.892832\n",
       "           matrix_as_map                0.911937\n",
       "           matrix_as_sofs               0.804490\n",
       "           matrix_as_tuple_of_tuples    0.742855\n",
       "dtype: float64"
      ]
     },
     "execution_count": 187,
     "metadata": {},
     "output_type": "execute_result"
    }
   ],
   "source": [
    "Statistic.aggregate(lambda x: np.linalg.norm(x['df_45']),axis=1)"
   ]
  },
  {
   "cell_type": "markdown",
   "metadata": {},
   "source": [
    "Nothing close to $0$ here.\n",
    "I would consider: matrix_as_ets_list I would consider: matrix_as_ets as the winners here, again."
   ]
  },
  {
   "cell_type": "markdown",
   "metadata": {},
   "source": [
    "## Get value"
   ]
  },
  {
   "cell_type": "code",
   "execution_count": 188,
   "metadata": {},
   "outputs": [],
   "source": [
    "Statistic = GetValue.agg(lambda x: pd.Series({'f' : x.values}), axis = 1)"
   ]
  },
  {
   "cell_type": "code",
   "execution_count": 189,
   "metadata": {},
   "outputs": [
    {
     "data": {
      "text/html": [
       "<div>\n",
       "<style scoped>\n",
       "    .dataframe tbody tr th:only-of-type {\n",
       "        vertical-align: middle;\n",
       "    }\n",
       "\n",
       "    .dataframe tbody tr th {\n",
       "        vertical-align: top;\n",
       "    }\n",
       "\n",
       "    .dataframe thead th {\n",
       "        text-align: right;\n",
       "    }\n",
       "</style>\n",
       "<table border=\"1\" class=\"dataframe\">\n",
       "  <thead>\n",
       "    <tr style=\"text-align: right;\">\n",
       "      <th></th>\n",
       "      <th></th>\n",
       "      <th>deg_int_slope</th>\n",
       "      <th>spearmanr_r</th>\n",
       "      <th>spearmanr_pval</th>\n",
       "      <th>reg_slope</th>\n",
       "      <th>reg_pval</th>\n",
       "      <th>dg_end</th>\n",
       "    </tr>\n",
       "    <tr>\n",
       "      <th>Operation</th>\n",
       "      <th>Representation</th>\n",
       "      <th></th>\n",
       "      <th></th>\n",
       "      <th></th>\n",
       "      <th></th>\n",
       "      <th></th>\n",
       "      <th></th>\n",
       "    </tr>\n",
       "  </thead>\n",
       "  <tbody>\n",
       "    <tr>\n",
       "      <th>get_value</th>\n",
       "      <th>matrix_as_list_of_lists</th>\n",
       "      <td>1.0</td>\n",
       "      <td>-0.928571</td>\n",
       "      <td>0.002519</td>\n",
       "      <td>-0.098575</td>\n",
       "      <td>0.006139</td>\n",
       "      <td>0.368922</td>\n",
       "    </tr>\n",
       "  </tbody>\n",
       "</table>\n",
       "</div>"
      ],
      "text/plain": [
       "                                   deg_int_slope  spearmanr_r  spearmanr_pval  \\\n",
       "Operation Representation                                                        \n",
       "get_value matrix_as_list_of_lists            1.0    -0.928571        0.002519   \n",
       "\n",
       "                                   reg_slope  reg_pval    dg_end  \n",
       "Operation Representation                                          \n",
       "get_value matrix_as_list_of_lists  -0.098575  0.006139  0.368922  "
      ]
     },
     "execution_count": 189,
     "metadata": {},
     "output_type": "execute_result"
    }
   ],
   "source": [
    "Statistic['g'] = Statistic.aggregate(lambda x: np.log(x['f']), axis=1)\n",
    "Statistic['dg'] = Statistic.aggregate(lambda x: d_g(x.values[0],100), axis=1)\n",
    "Statistic[['spearmanr_r', 'spearmanr_pval']] = Statistic.aggregate(\\\n",
    "lambda x: sps.spearmanr(range(len(x['dg'])),x['dg']), axis=1).apply(pd.Series)\n",
    "Statistic[['kpss_r', 'kpss_pval']] =\\\n",
    "Statistic.apply(lambda x: stat.kpss(x['dg'], regression='c')[0:2], axis=1).apply(pd.Series)\n",
    "Statistic[['reg_slope', 'reg_intercept', 'reg_rv', 'reg_pval']] = Statistic.aggregate(\\\n",
    "                        lambda x: sps.linregress(np.array(range(len(x['dg'])))+0.000001,x['dg'])[0:4],\\\n",
    "                                                        axis=1).apply(pd.Series)\n",
    "Statistic[['deg_slope', 'deg_intercept', 'deg_rv', 'deg_pval']] = Statistic.aggregate(\\\n",
    "                        lambda x: sps.linregress(np.log(np.array(range(len(x['g'])))+1.01),x['g'])[0:4],\\\n",
    "                                                        axis=1).apply(pd.Series)\n",
    "Statistic[['deg_int_slope']] = np.ceil(Statistic[['deg_slope']])\n",
    "Statistic[['dg_end']] = Statistic.aggregate(lambda x: np.linalg.norm(x['dg'][-4:]),axis=1).apply(pd.Series)\n",
    "Statistic.loc[(Statistic['spearmanr_pval']<0.05, Statistic['spearmanr_r']<0.0),\\\n",
    "              ['deg_int_slope', 'spearmanr_r', 'spearmanr_pval', 'reg_slope', 'reg_pval', 'dg_end']]"
   ]
  },
  {
   "cell_type": "code",
   "execution_count": 190,
   "metadata": {},
   "outputs": [
    {
     "data": {
      "text/html": [
       "<div>\n",
       "<style scoped>\n",
       "    .dataframe tbody tr th:only-of-type {\n",
       "        vertical-align: middle;\n",
       "    }\n",
       "\n",
       "    .dataframe tbody tr th {\n",
       "        vertical-align: top;\n",
       "    }\n",
       "\n",
       "    .dataframe thead th {\n",
       "        text-align: right;\n",
       "    }\n",
       "</style>\n",
       "<table border=\"1\" class=\"dataframe\">\n",
       "  <thead>\n",
       "    <tr style=\"text-align: right;\">\n",
       "      <th></th>\n",
       "      <th></th>\n",
       "      <th>deg_int_slope</th>\n",
       "      <th>spearmanr_r</th>\n",
       "      <th>spearmanr_pval</th>\n",
       "      <th>reg_slope</th>\n",
       "      <th>reg_pval</th>\n",
       "      <th>dg_end</th>\n",
       "    </tr>\n",
       "    <tr>\n",
       "      <th>Operation</th>\n",
       "      <th>Representation</th>\n",
       "      <th></th>\n",
       "      <th></th>\n",
       "      <th></th>\n",
       "      <th></th>\n",
       "      <th></th>\n",
       "      <th></th>\n",
       "    </tr>\n",
       "  </thead>\n",
       "  <tbody>\n",
       "    <tr>\n",
       "      <th>get_value</th>\n",
       "      <th>matrix_as_tuple_of_tuples</th>\n",
       "      <td>1.0</td>\n",
       "      <td>-0.133631</td>\n",
       "      <td>0.775162</td>\n",
       "      <td>-0.071913</td>\n",
       "      <td>0.451968</td>\n",
       "      <td>2.220446e-16</td>\n",
       "    </tr>\n",
       "  </tbody>\n",
       "</table>\n",
       "</div>"
      ],
      "text/plain": [
       "                                     deg_int_slope  spearmanr_r  \\\n",
       "Operation Representation                                          \n",
       "get_value matrix_as_tuple_of_tuples            1.0    -0.133631   \n",
       "\n",
       "                                     spearmanr_pval  reg_slope  reg_pval  \\\n",
       "Operation Representation                                                   \n",
       "get_value matrix_as_tuple_of_tuples        0.775162  -0.071913  0.451968   \n",
       "\n",
       "                                           dg_end  \n",
       "Operation Representation                           \n",
       "get_value matrix_as_tuple_of_tuples  2.220446e-16  "
      ]
     },
     "execution_count": 190,
     "metadata": {},
     "output_type": "execute_result"
    }
   ],
   "source": [
    "Statistic.loc[(Statistic['dg_end']<0.01),\\\n",
    "              ['deg_int_slope', 'spearmanr_r', 'spearmanr_pval', 'reg_slope', 'reg_pval', 'dg_end' ]]"
   ]
  },
  {
   "cell_type": "code",
   "execution_count": 191,
   "metadata": {},
   "outputs": [],
   "source": [
    "Statistic['df_1'] = Statistic.aggregate(lambda x: df_1(x['f'],100),axis=1)\n",
    "Statistic['df_2'] = Statistic.aggregate(lambda x: df_2(x['f'],100),axis=1)\n",
    "Statistic['df_3'] = Statistic.aggregate(lambda x: df_3(x['f'],100),axis=1)\n",
    "Statistic['df_4'] = Statistic.aggregate(lambda x: df_4(x['f'],100),axis=1)\n",
    "Statistic['df_5'] = Statistic.aggregate(lambda x: df_5(x['f'],100),axis=1)"
   ]
  },
  {
   "cell_type": "code",
   "execution_count": 192,
   "metadata": {},
   "outputs": [
    {
     "name": "stderr",
     "output_type": "stream",
     "text": [
      "/home/xmatebi/anaconda3/lib/python3.6/site-packages/ipykernel_launcher.py:1: RuntimeWarning: invalid value encountered in true_divide\n",
      "  \"\"\"Entry point for launching an IPython kernel.\n",
      "/home/xmatebi/anaconda3/lib/python3.6/site-packages/ipykernel_launcher.py:2: RuntimeWarning: invalid value encountered in true_divide\n",
      "  \n",
      "/home/xmatebi/anaconda3/lib/python3.6/site-packages/ipykernel_launcher.py:3: RuntimeWarning: invalid value encountered in true_divide\n",
      "  This is separate from the ipykernel package so we can avoid doing imports until\n"
     ]
    }
   ],
   "source": [
    "Statistic['df_45'] = Statistic.apply(lambda x: np.divide(x['df_5'],x['df_4']),axis=1)\n",
    "Statistic['df_34'] = Statistic.apply(lambda x: np.divide(x['df_4'],x['df_3']),axis=1)\n",
    "Statistic['df_23'] = Statistic.apply(lambda x: np.divide(x['df_3'],x['df_2']),axis=1)"
   ]
  },
  {
   "cell_type": "code",
   "execution_count": 193,
   "metadata": {},
   "outputs": [
    {
     "data": {
      "text/plain": [
       "Operation  Representation           \n",
       "get_value  matrix_as_array              10.117708\n",
       "           matrix_as_array_of_arrays     1.719737\n",
       "           matrix_as_big_tuple           1.823091\n",
       "           matrix_as_bit_map             1.519721\n",
       "           matrix_as_dict               18.303486\n",
       "           matrix_as_digraph             1.918997\n",
       "           matrix_as_ets                 1.804186\n",
       "           matrix_as_ets_bin             2.234789\n",
       "           matrix_as_ets_list            1.859150\n",
       "           matrix_as_ext_bit_map         1.841844\n",
       "           matrix_as_gb_tree            23.732689\n",
       "           matrix_as_list_map            1.811863\n",
       "           matrix_as_list_of_lists       1.847315\n",
       "           matrix_as_map                 1.880854\n",
       "           matrix_as_sofs                2.002354\n",
       "           matrix_as_tuple_of_tuples          NaN\n",
       "dtype: float64"
      ]
     },
     "execution_count": 193,
     "metadata": {},
     "output_type": "execute_result"
    }
   ],
   "source": [
    "Statistic.aggregate(lambda x: np.linalg.norm(x['df_34']),axis=1)"
   ]
  },
  {
   "cell_type": "code",
   "execution_count": 194,
   "metadata": {},
   "outputs": [
    {
     "data": {
      "text/plain": [
       "Operation  Representation           \n",
       "get_value  matrix_as_array              1.015371\n",
       "           matrix_as_array_of_arrays    0.754457\n",
       "           matrix_as_big_tuple          0.793391\n",
       "           matrix_as_bit_map            0.685537\n",
       "           matrix_as_dict               0.906626\n",
       "           matrix_as_digraph            0.836670\n",
       "           matrix_as_ets                0.791102\n",
       "           matrix_as_ets_bin            0.799002\n",
       "           matrix_as_ets_list           0.816405\n",
       "           matrix_as_ext_bit_map        0.806759\n",
       "           matrix_as_gb_tree            0.807273\n",
       "           matrix_as_list_map           0.796159\n",
       "           matrix_as_list_of_lists      0.796688\n",
       "           matrix_as_map                0.730900\n",
       "           matrix_as_sofs               0.868134\n",
       "           matrix_as_tuple_of_tuples         NaN\n",
       "dtype: float64"
      ]
     },
     "execution_count": 194,
     "metadata": {},
     "output_type": "execute_result"
    }
   ],
   "source": [
    "Statistic.aggregate(lambda x: np.linalg.norm(x['df_45']),axis=1)"
   ]
  },
  {
   "cell_type": "code",
   "execution_count": 195,
   "metadata": {},
   "outputs": [
    {
     "name": "stderr",
     "output_type": "stream",
     "text": [
      "/home/xmatebi/anaconda3/lib/python3.6/site-packages/ipykernel_launcher.py:1: RuntimeWarning: invalid value encountered in true_divide\n",
      "  \"\"\"Entry point for launching an IPython kernel.\n"
     ]
    }
   ],
   "source": [
    "Statistic['df_12'] = Statistic.apply(lambda x: np.divide(x['df_2'],x['df_1']),axis=1)"
   ]
  },
  {
   "cell_type": "code",
   "execution_count": 196,
   "metadata": {},
   "outputs": [
    {
     "data": {
      "text/plain": [
       "Operation  Representation           \n",
       "get_value  matrix_as_array                4.516163\n",
       "           matrix_as_array_of_arrays      6.685351\n",
       "           matrix_as_big_tuple            6.815066\n",
       "           matrix_as_bit_map              5.471452\n",
       "           matrix_as_dict                 5.022303\n",
       "           matrix_as_digraph              7.152847\n",
       "           matrix_as_ets                 11.244136\n",
       "           matrix_as_ets_bin              5.731388\n",
       "           matrix_as_ets_list             6.817641\n",
       "           matrix_as_ext_bit_map          6.840521\n",
       "           matrix_as_gb_tree              4.117129\n",
       "           matrix_as_list_map             6.398131\n",
       "           matrix_as_list_of_lists        3.183019\n",
       "           matrix_as_map                101.902053\n",
       "           matrix_as_sofs                12.579066\n",
       "           matrix_as_tuple_of_tuples           NaN\n",
       "dtype: float64"
      ]
     },
     "execution_count": 196,
     "metadata": {},
     "output_type": "execute_result"
    }
   ],
   "source": [
    "Statistic.aggregate(lambda x: np.linalg.norm(x['df_12']),axis=1)"
   ]
  },
  {
   "cell_type": "markdown",
   "metadata": {},
   "source": [
    "Lets check matrix_as_tuple_of_tuples and matrix_as_list_of_lists:"
   ]
  },
  {
   "cell_type": "code",
   "execution_count": 197,
   "metadata": {},
   "outputs": [
    {
     "data": {
      "text/plain": [
       "array([4, 7, 5, 5, 5, 5, 5, 5, 5, 5])"
      ]
     },
     "execution_count": 197,
     "metadata": {},
     "output_type": "execute_result"
    }
   ],
   "source": [
    "Statistic['f'][('get_value','matrix_as_tuple_of_tuples')]"
   ]
  },
  {
   "cell_type": "code",
   "execution_count": 198,
   "metadata": {},
   "outputs": [
    {
     "data": {
      "text/plain": [
       "[12.283333333333333, -4.566666666666666, 0.0, 0.0]"
      ]
     },
     "execution_count": 198,
     "metadata": {},
     "output_type": "execute_result"
    }
   ],
   "source": [
    "Statistic['df_1'][('get_value','matrix_as_tuple_of_tuples')]"
   ]
  },
  {
   "cell_type": "code",
   "execution_count": 199,
   "metadata": {},
   "outputs": [
    {
     "data": {
      "text/plain": [
       "array([ 114,  215,  303,  418,  525,  625,  731,  797,  973, 1136])"
      ]
     },
     "execution_count": 199,
     "metadata": {},
     "output_type": "execute_result"
    }
   ],
   "source": [
    "Statistic['f'][('get_value','matrix_as_list_of_lists')]"
   ]
  },
  {
   "cell_type": "markdown",
   "metadata": {},
   "source": [
    "So N/A values appear because matrix_as_tuple_of_tuples stabilizes very quickly. Small number of values spoils derivate analysis, there is no way/goal to limit its results to the last values.\n",
    "The matrix_as_list_of_lists implementation also shows nicely slowing growth."
   ]
  },
  {
   "cell_type": "markdown",
   "metadata": {},
   "source": [
    "## Set value"
   ]
  },
  {
   "cell_type": "code",
   "execution_count": 203,
   "metadata": {},
   "outputs": [],
   "source": [
    "Statistic = SetValue.agg(lambda x: pd.Series({'f' : x.values}), axis = 1)"
   ]
  },
  {
   "cell_type": "code",
   "execution_count": 204,
   "metadata": {},
   "outputs": [
    {
     "data": {
      "text/html": [
       "<div>\n",
       "<style scoped>\n",
       "    .dataframe tbody tr th:only-of-type {\n",
       "        vertical-align: middle;\n",
       "    }\n",
       "\n",
       "    .dataframe tbody tr th {\n",
       "        vertical-align: top;\n",
       "    }\n",
       "\n",
       "    .dataframe thead th {\n",
       "        text-align: right;\n",
       "    }\n",
       "</style>\n",
       "<table border=\"1\" class=\"dataframe\">\n",
       "  <thead>\n",
       "    <tr style=\"text-align: right;\">\n",
       "      <th></th>\n",
       "      <th></th>\n",
       "      <th>deg_int_slope</th>\n",
       "      <th>spearmanr_r</th>\n",
       "      <th>spearmanr_pval</th>\n",
       "      <th>reg_slope</th>\n",
       "      <th>reg_pval</th>\n",
       "      <th>dg_end</th>\n",
       "    </tr>\n",
       "    <tr>\n",
       "      <th>Operation</th>\n",
       "      <th>Representation</th>\n",
       "      <th></th>\n",
       "      <th></th>\n",
       "      <th></th>\n",
       "      <th></th>\n",
       "      <th></th>\n",
       "      <th></th>\n",
       "    </tr>\n",
       "  </thead>\n",
       "  <tbody>\n",
       "  </tbody>\n",
       "</table>\n",
       "</div>"
      ],
      "text/plain": [
       "Empty DataFrame\n",
       "Columns: [deg_int_slope, spearmanr_r, spearmanr_pval, reg_slope, reg_pval, dg_end]\n",
       "Index: []"
      ]
     },
     "execution_count": 204,
     "metadata": {},
     "output_type": "execute_result"
    }
   ],
   "source": [
    "Statistic['g'] = Statistic.aggregate(lambda x: np.log(x['f']), axis=1)\n",
    "Statistic['dg'] = Statistic.aggregate(lambda x: d_g(x.values[0],100), axis=1)\n",
    "Statistic[['spearmanr_r', 'spearmanr_pval']] = Statistic.aggregate(\\\n",
    "lambda x: sps.spearmanr(range(len(x['dg'])),x['dg']), axis=1).apply(pd.Series)\n",
    "Statistic[['kpss_r', 'kpss_pval']] =\\\n",
    "Statistic.apply(lambda x: stat.kpss(x['dg'], regression='c')[0:2], axis=1).apply(pd.Series)\n",
    "Statistic[['reg_slope', 'reg_intercept', 'reg_rv', 'reg_pval']] = Statistic.aggregate(\\\n",
    "                        lambda x: sps.linregress(np.array(range(len(x['dg'])))+0.000001,x['dg'])[0:4],\\\n",
    "                                                        axis=1).apply(pd.Series)\n",
    "Statistic[['deg_slope', 'deg_intercept', 'deg_rv', 'deg_pval']] = Statistic.aggregate(\\\n",
    "                        lambda x: sps.linregress(np.log(np.array(range(len(x['g'])))+1.01),x['g'])[0:4],\\\n",
    "                                                        axis=1).apply(pd.Series)\n",
    "Statistic[['deg_int_slope']] = np.ceil(Statistic[['deg_slope']])\n",
    "Statistic[['dg_end']] = Statistic.aggregate(lambda x: np.linalg.norm(x['dg'][-4:]),axis=1).apply(pd.Series)\n",
    "Statistic.loc[(Statistic['spearmanr_pval']<0.05, Statistic['spearmanr_r']<0.0),\\\n",
    "              ['deg_int_slope', 'spearmanr_r', 'spearmanr_pval', 'reg_slope', 'reg_pval', 'dg_end']]"
   ]
  },
  {
   "cell_type": "code",
   "execution_count": 205,
   "metadata": {},
   "outputs": [
    {
     "data": {
      "text/html": [
       "<div>\n",
       "<style scoped>\n",
       "    .dataframe tbody tr th:only-of-type {\n",
       "        vertical-align: middle;\n",
       "    }\n",
       "\n",
       "    .dataframe tbody tr th {\n",
       "        vertical-align: top;\n",
       "    }\n",
       "\n",
       "    .dataframe thead th {\n",
       "        text-align: right;\n",
       "    }\n",
       "</style>\n",
       "<table border=\"1\" class=\"dataframe\">\n",
       "  <thead>\n",
       "    <tr style=\"text-align: right;\">\n",
       "      <th></th>\n",
       "      <th></th>\n",
       "      <th>deg_int_slope</th>\n",
       "      <th>spearmanr_r</th>\n",
       "      <th>spearmanr_pval</th>\n",
       "      <th>reg_slope</th>\n",
       "      <th>reg_pval</th>\n",
       "      <th>dg_end</th>\n",
       "    </tr>\n",
       "    <tr>\n",
       "      <th>Operation</th>\n",
       "      <th>Representation</th>\n",
       "      <th></th>\n",
       "      <th></th>\n",
       "      <th></th>\n",
       "      <th></th>\n",
       "      <th></th>\n",
       "      <th></th>\n",
       "    </tr>\n",
       "  </thead>\n",
       "  <tbody>\n",
       "  </tbody>\n",
       "</table>\n",
       "</div>"
      ],
      "text/plain": [
       "Empty DataFrame\n",
       "Columns: [deg_int_slope, spearmanr_r, spearmanr_pval, reg_slope, reg_pval, dg_end]\n",
       "Index: []"
      ]
     },
     "execution_count": 205,
     "metadata": {},
     "output_type": "execute_result"
    }
   ],
   "source": [
    "Statistic.loc[(Statistic['dg_end']<0.01),\\\n",
    "              ['deg_int_slope', 'spearmanr_r', 'spearmanr_pval', 'reg_slope', 'reg_pval', 'dg_end' ]]"
   ]
  },
  {
   "cell_type": "markdown",
   "metadata": {},
   "source": [
    "Setting value looks tragic."
   ]
  },
  {
   "cell_type": "code",
   "execution_count": 213,
   "metadata": {},
   "outputs": [
    {
     "data": {
      "text/html": [
       "<div>\n",
       "<style scoped>\n",
       "    .dataframe tbody tr th:only-of-type {\n",
       "        vertical-align: middle;\n",
       "    }\n",
       "\n",
       "    .dataframe tbody tr th {\n",
       "        vertical-align: top;\n",
       "    }\n",
       "\n",
       "    .dataframe thead th {\n",
       "        text-align: right;\n",
       "    }\n",
       "</style>\n",
       "<table border=\"1\" class=\"dataframe\">\n",
       "  <thead>\n",
       "    <tr style=\"text-align: right;\">\n",
       "      <th></th>\n",
       "      <th></th>\n",
       "      <th>deg_int_slope</th>\n",
       "      <th>spearmanr_r</th>\n",
       "      <th>spearmanr_pval</th>\n",
       "      <th>reg_slope</th>\n",
       "      <th>reg_pval</th>\n",
       "      <th>dg_end</th>\n",
       "    </tr>\n",
       "    <tr>\n",
       "      <th>Operation</th>\n",
       "      <th>Representation</th>\n",
       "      <th></th>\n",
       "      <th></th>\n",
       "      <th></th>\n",
       "      <th></th>\n",
       "      <th></th>\n",
       "      <th></th>\n",
       "    </tr>\n",
       "  </thead>\n",
       "  <tbody>\n",
       "    <tr>\n",
       "      <th rowspan=\"16\" valign=\"top\">set_value</th>\n",
       "      <th>matrix_as_array</th>\n",
       "      <td>-0.0</td>\n",
       "      <td>0.607143</td>\n",
       "      <td>0.148231</td>\n",
       "      <td>0.092753</td>\n",
       "      <td>0.172308</td>\n",
       "      <td>0.413688</td>\n",
       "    </tr>\n",
       "    <tr>\n",
       "      <th>matrix_as_dict</th>\n",
       "      <td>2.0</td>\n",
       "      <td>-0.428571</td>\n",
       "      <td>0.337368</td>\n",
       "      <td>-0.142133</td>\n",
       "      <td>0.425155</td>\n",
       "      <td>1.496104</td>\n",
       "    </tr>\n",
       "    <tr>\n",
       "      <th>matrix_as_sofs</th>\n",
       "      <td>3.0</td>\n",
       "      <td>-0.392857</td>\n",
       "      <td>0.383317</td>\n",
       "      <td>-0.213769</td>\n",
       "      <td>0.190192</td>\n",
       "      <td>0.633382</td>\n",
       "    </tr>\n",
       "    <tr>\n",
       "      <th>matrix_as_big_tuple</th>\n",
       "      <td>3.0</td>\n",
       "      <td>-0.321429</td>\n",
       "      <td>0.482072</td>\n",
       "      <td>-0.220840</td>\n",
       "      <td>0.532566</td>\n",
       "      <td>3.065729</td>\n",
       "    </tr>\n",
       "    <tr>\n",
       "      <th>matrix_as_digraph</th>\n",
       "      <td>1.0</td>\n",
       "      <td>-0.321429</td>\n",
       "      <td>0.482072</td>\n",
       "      <td>-0.034509</td>\n",
       "      <td>0.566728</td>\n",
       "      <td>0.364183</td>\n",
       "    </tr>\n",
       "    <tr>\n",
       "      <th>matrix_as_tuple_of_tuples</th>\n",
       "      <td>2.0</td>\n",
       "      <td>0.321429</td>\n",
       "      <td>0.482072</td>\n",
       "      <td>0.085289</td>\n",
       "      <td>0.424310</td>\n",
       "      <td>1.239495</td>\n",
       "    </tr>\n",
       "    <tr>\n",
       "      <th>matrix_as_bit_map</th>\n",
       "      <td>1.0</td>\n",
       "      <td>0.285714</td>\n",
       "      <td>0.534509</td>\n",
       "      <td>0.039611</td>\n",
       "      <td>0.659023</td>\n",
       "      <td>0.976291</td>\n",
       "    </tr>\n",
       "    <tr>\n",
       "      <th>matrix_as_ets_bin</th>\n",
       "      <td>1.0</td>\n",
       "      <td>-0.285714</td>\n",
       "      <td>0.534509</td>\n",
       "      <td>-0.012436</td>\n",
       "      <td>0.686126</td>\n",
       "      <td>0.221836</td>\n",
       "    </tr>\n",
       "    <tr>\n",
       "      <th>matrix_as_list_map</th>\n",
       "      <td>1.0</td>\n",
       "      <td>-0.178571</td>\n",
       "      <td>0.701658</td>\n",
       "      <td>-0.022697</td>\n",
       "      <td>0.888929</td>\n",
       "      <td>1.519999</td>\n",
       "    </tr>\n",
       "    <tr>\n",
       "      <th>matrix_as_ets</th>\n",
       "      <td>1.0</td>\n",
       "      <td>-0.148250</td>\n",
       "      <td>0.751080</td>\n",
       "      <td>0.000124</td>\n",
       "      <td>0.990252</td>\n",
       "      <td>0.109434</td>\n",
       "    </tr>\n",
       "    <tr>\n",
       "      <th>matrix_as_list_of_lists</th>\n",
       "      <td>2.0</td>\n",
       "      <td>-0.142857</td>\n",
       "      <td>0.759945</td>\n",
       "      <td>-0.112944</td>\n",
       "      <td>0.784961</td>\n",
       "      <td>3.939626</td>\n",
       "    </tr>\n",
       "    <tr>\n",
       "      <th>matrix_as_gb_tree</th>\n",
       "      <td>1.0</td>\n",
       "      <td>-0.107143</td>\n",
       "      <td>0.819151</td>\n",
       "      <td>-0.022212</td>\n",
       "      <td>0.658351</td>\n",
       "      <td>0.498467</td>\n",
       "    </tr>\n",
       "    <tr>\n",
       "      <th>matrix_as_array_of_arrays</th>\n",
       "      <td>-0.0</td>\n",
       "      <td>0.071429</td>\n",
       "      <td>0.879048</td>\n",
       "      <td>0.006813</td>\n",
       "      <td>0.923252</td>\n",
       "      <td>0.618256</td>\n",
       "    </tr>\n",
       "    <tr>\n",
       "      <th>matrix_as_ext_bit_map</th>\n",
       "      <td>1.0</td>\n",
       "      <td>0.071429</td>\n",
       "      <td>0.879048</td>\n",
       "      <td>-0.015871</td>\n",
       "      <td>0.913265</td>\n",
       "      <td>1.335642</td>\n",
       "    </tr>\n",
       "    <tr>\n",
       "      <th>matrix_as_map</th>\n",
       "      <td>1.0</td>\n",
       "      <td>-0.071429</td>\n",
       "      <td>0.879048</td>\n",
       "      <td>-0.027013</td>\n",
       "      <td>0.843669</td>\n",
       "      <td>0.556072</td>\n",
       "    </tr>\n",
       "    <tr>\n",
       "      <th>matrix_as_ets_list</th>\n",
       "      <td>1.0</td>\n",
       "      <td>0.018019</td>\n",
       "      <td>0.969415</td>\n",
       "      <td>-0.007242</td>\n",
       "      <td>0.560452</td>\n",
       "      <td>0.087990</td>\n",
       "    </tr>\n",
       "  </tbody>\n",
       "</table>\n",
       "</div>"
      ],
      "text/plain": [
       "                                     deg_int_slope  spearmanr_r  \\\n",
       "Operation Representation                                          \n",
       "set_value matrix_as_array                     -0.0     0.607143   \n",
       "          matrix_as_dict                       2.0    -0.428571   \n",
       "          matrix_as_sofs                       3.0    -0.392857   \n",
       "          matrix_as_big_tuple                  3.0    -0.321429   \n",
       "          matrix_as_digraph                    1.0    -0.321429   \n",
       "          matrix_as_tuple_of_tuples            2.0     0.321429   \n",
       "          matrix_as_bit_map                    1.0     0.285714   \n",
       "          matrix_as_ets_bin                    1.0    -0.285714   \n",
       "          matrix_as_list_map                   1.0    -0.178571   \n",
       "          matrix_as_ets                        1.0    -0.148250   \n",
       "          matrix_as_list_of_lists              2.0    -0.142857   \n",
       "          matrix_as_gb_tree                    1.0    -0.107143   \n",
       "          matrix_as_array_of_arrays           -0.0     0.071429   \n",
       "          matrix_as_ext_bit_map                1.0     0.071429   \n",
       "          matrix_as_map                        1.0    -0.071429   \n",
       "          matrix_as_ets_list                   1.0     0.018019   \n",
       "\n",
       "                                     spearmanr_pval  reg_slope  reg_pval  \\\n",
       "Operation Representation                                                   \n",
       "set_value matrix_as_array                  0.148231   0.092753  0.172308   \n",
       "          matrix_as_dict                   0.337368  -0.142133  0.425155   \n",
       "          matrix_as_sofs                   0.383317  -0.213769  0.190192   \n",
       "          matrix_as_big_tuple              0.482072  -0.220840  0.532566   \n",
       "          matrix_as_digraph                0.482072  -0.034509  0.566728   \n",
       "          matrix_as_tuple_of_tuples        0.482072   0.085289  0.424310   \n",
       "          matrix_as_bit_map                0.534509   0.039611  0.659023   \n",
       "          matrix_as_ets_bin                0.534509  -0.012436  0.686126   \n",
       "          matrix_as_list_map               0.701658  -0.022697  0.888929   \n",
       "          matrix_as_ets                    0.751080   0.000124  0.990252   \n",
       "          matrix_as_list_of_lists          0.759945  -0.112944  0.784961   \n",
       "          matrix_as_gb_tree                0.819151  -0.022212  0.658351   \n",
       "          matrix_as_array_of_arrays        0.879048   0.006813  0.923252   \n",
       "          matrix_as_ext_bit_map            0.879048  -0.015871  0.913265   \n",
       "          matrix_as_map                    0.879048  -0.027013  0.843669   \n",
       "          matrix_as_ets_list               0.969415  -0.007242  0.560452   \n",
       "\n",
       "                                       dg_end  \n",
       "Operation Representation                       \n",
       "set_value matrix_as_array            0.413688  \n",
       "          matrix_as_dict             1.496104  \n",
       "          matrix_as_sofs             0.633382  \n",
       "          matrix_as_big_tuple        3.065729  \n",
       "          matrix_as_digraph          0.364183  \n",
       "          matrix_as_tuple_of_tuples  1.239495  \n",
       "          matrix_as_bit_map          0.976291  \n",
       "          matrix_as_ets_bin          0.221836  \n",
       "          matrix_as_list_map         1.519999  \n",
       "          matrix_as_ets              0.109434  \n",
       "          matrix_as_list_of_lists    3.939626  \n",
       "          matrix_as_gb_tree          0.498467  \n",
       "          matrix_as_array_of_arrays  0.618256  \n",
       "          matrix_as_ext_bit_map      1.335642  \n",
       "          matrix_as_map              0.556072  \n",
       "          matrix_as_ets_list         0.087990  "
      ]
     },
     "execution_count": 213,
     "metadata": {},
     "output_type": "execute_result"
    }
   ],
   "source": [
    "Statistic[['deg_int_slope', 'spearmanr_r', 'spearmanr_pval', 'reg_slope', 'reg_pval', 'dg_end' ]]\\\n",
    ".sort_values('spearmanr_pval')"
   ]
  },
  {
   "cell_type": "markdown",
   "metadata": {},
   "source": [
    "The matrix_as_array has the closest behaviour to monotonically decreasing, matrix_as_dict and matrix_as_sofs can be considered."
   ]
  },
  {
   "cell_type": "markdown",
   "metadata": {},
   "source": [
    "## Conclusion"
   ]
  },
  {
   "cell_type": "markdown",
   "metadata": {},
   "source": [
    "Aside of taking into consideration of the implementations that are the best on the provided data, we should consider the ones which give hopes for efficiency with data of a bigger size. From above projections we should consider:\n",
    "- For rows and columns sums: matrix_as_ets_list and matrix_as_ets representaions.\n",
    "- For the get_value function the matrix_as_tuple_of_tuples is clear winner, but also the matrix_as_list_of_lists.\n",
    "- For setting values the results are not so clear, but the matrix_as_array is recomendated. Also matrix_as_dict and matrix_as_sofs should be considered.\n",
    "\n",
    "In case other implementations will show better results, it is good to check if they don't show to big growth\n",
    "with above tables."
   ]
  }
 ],
 "metadata": {
  "kernelspec": {
   "display_name": "Python 3",
   "language": "python",
   "name": "python3"
  },
  "language_info": {
   "codemirror_mode": {
    "name": "ipython",
    "version": 3
   },
   "file_extension": ".py",
   "mimetype": "text/x-python",
   "name": "python",
   "nbconvert_exporter": "python",
   "pygments_lexer": "ipython3",
   "version": "3.6.5"
  }
 },
 "nbformat": 4,
 "nbformat_minor": 2
}
