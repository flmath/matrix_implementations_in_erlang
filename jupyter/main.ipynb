{
 "cells": [
  {
   "cell_type": "code",
   "execution_count": 1126,
   "metadata": {},
   "outputs": [
    {
     "data": {
      "text/plain": [
       "'0.23.0'"
      ]
     },
     "execution_count": 1126,
     "metadata": {},
     "output_type": "execute_result"
    }
   ],
   "source": [
    "import pandas as pd\n",
    "pd.__version__"
   ]
  },
  {
   "cell_type": "markdown",
   "metadata": {},
   "source": [
    "# Introduction"
   ]
  },
  {
   "cell_type": "markdown",
   "metadata": {},
   "source": [
    "## Description"
   ]
  },
  {
   "cell_type": "markdown",
   "metadata": {},
   "source": [
    "The LoadedTable contains statistics gathered from running the script that generates a matrix (Width x Height) and then \n",
    "runs and execution time measured with the [timer:tc](http://erlang.org/doc/man/timer.html#tc-1) following tests for each representation of matrix and sizes:"
   ]
  },
  {
   "cell_type": "markdown",
   "metadata": {},
   "source": [
    "The tested operations are:\n",
    "\n",
    " - one_rows_sums - sum of values from each row in the matrix once per run\n",
    " \n",
    " - one_cols_sums - sum of values from each row in the matrix once per run\n",
    " \n",
    " - get_value - gets a value in the middle of the matrix each run separetly\n",
    " \n",
    " - set_value - sets a value in the middle of the matrix each run separetly"
   ]
  },
  {
   "cell_type": "markdown",
   "metadata": {},
   "source": [
    "The tested matrix representations are:"
   ]
  },
  {
   "cell_type": "code",
   "execution_count": 1127,
   "metadata": {
    "scrolled": true
   },
   "outputs": [
    {
     "data": {
      "text/html": [
       "<div>\n",
       "<style scoped>\n",
       "    .dataframe tbody tr th:only-of-type {\n",
       "        vertical-align: middle;\n",
       "    }\n",
       "\n",
       "    .dataframe tbody tr th {\n",
       "        vertical-align: top;\n",
       "    }\n",
       "\n",
       "    .dataframe thead th {\n",
       "        text-align: right;\n",
       "    }\n",
       "</style>\n",
       "<table border=\"1\" class=\"dataframe\">\n",
       "  <thead>\n",
       "    <tr style=\"text-align: right;\">\n",
       "      <th></th>\n",
       "      <th>ExecutionTime</th>\n",
       "      <th>Height</th>\n",
       "      <th>Operation</th>\n",
       "      <th>Representation</th>\n",
       "      <th>Runs</th>\n",
       "      <th>Width</th>\n",
       "    </tr>\n",
       "  </thead>\n",
       "  <tbody>\n",
       "    <tr>\n",
       "      <th>0</th>\n",
       "      <td>1078</td>\n",
       "      <td>100</td>\n",
       "      <td>get_value</td>\n",
       "      <td>matrix_as_bit_map</td>\n",
       "      <td>100</td>\n",
       "      <td>100</td>\n",
       "    </tr>\n",
       "    <tr>\n",
       "      <th>1</th>\n",
       "      <td>348</td>\n",
       "      <td>100</td>\n",
       "      <td>get_value</td>\n",
       "      <td>matrix_as_ext_bit_map</td>\n",
       "      <td>100</td>\n",
       "      <td>100</td>\n",
       "    </tr>\n",
       "    <tr>\n",
       "      <th>2</th>\n",
       "      <td>21</td>\n",
       "      <td>100</td>\n",
       "      <td>get_value</td>\n",
       "      <td>matrix_as_digraph</td>\n",
       "      <td>100</td>\n",
       "      <td>100</td>\n",
       "    </tr>\n",
       "    <tr>\n",
       "      <th>3</th>\n",
       "      <td>19</td>\n",
       "      <td>100</td>\n",
       "      <td>get_value</td>\n",
       "      <td>matrix_as_ets_bin</td>\n",
       "      <td>100</td>\n",
       "      <td>100</td>\n",
       "    </tr>\n",
       "    <tr>\n",
       "      <th>4</th>\n",
       "      <td>13</td>\n",
       "      <td>100</td>\n",
       "      <td>get_value</td>\n",
       "      <td>matrix_as_map</td>\n",
       "      <td>100</td>\n",
       "      <td>100</td>\n",
       "    </tr>\n",
       "  </tbody>\n",
       "</table>\n",
       "</div>"
      ],
      "text/plain": [
       "   ExecutionTime Height  Operation         Representation Runs Width\n",
       "0           1078    100  get_value      matrix_as_bit_map  100   100\n",
       "1            348    100  get_value  matrix_as_ext_bit_map  100   100\n",
       "2             21    100  get_value      matrix_as_digraph  100   100\n",
       "3             19    100  get_value      matrix_as_ets_bin  100   100\n",
       "4             13    100  get_value          matrix_as_map  100   100"
      ]
     },
     "execution_count": 1127,
     "metadata": {},
     "output_type": "execute_result"
    }
   ],
   "source": [
    "from urllib.request import urlopen\n",
    "import re\n",
    "import json\n",
    "\n",
    "response = urlopen(\n",
    "    \"https://github.com/flmath/matrix_implementations_in_erlang/raw/master/examples/results\")\n",
    "data=[]\n",
    "for line in response:\n",
    "    decoded = line.decode('utf-8')\n",
    "    if \"{\"==decoded[0]:\n",
    "        decoded=re.sub('{','{\\\"',decoded)\n",
    "        decoded=re.sub(':','\\\":',decoded)\n",
    "        decoded=re.sub(', ',', \\\"',decoded)\n",
    "        data.append(json.loads(decoded))\n",
    "        \n",
    "LoadedTable = pd.DataFrame.from_dict(data, orient='columns')\n",
    "LoadedTable.head()"
   ]
  },
  {
   "cell_type": "markdown",
   "metadata": {},
   "source": [
    "Lets get rid of the Width and Runs columns since those are redundant."
   ]
  },
  {
   "cell_type": "code",
   "execution_count": 1128,
   "metadata": {},
   "outputs": [],
   "source": [
    "LoadedTable = LoadedTable.loc[:,['ExecutionTime','Height','Operation','Representation']]"
   ]
  },
  {
   "cell_type": "markdown",
   "metadata": {},
   "source": [
    "Lets list all matrices representations we have tested."
   ]
  },
  {
   "cell_type": "code",
   "execution_count": 1129,
   "metadata": {},
   "outputs": [
    {
     "data": {
      "text/plain": [
       "{'matrix_as_array',\n",
       " 'matrix_as_array_of_arrays',\n",
       " 'matrix_as_big_tuple',\n",
       " 'matrix_as_bit_map',\n",
       " 'matrix_as_dict',\n",
       " 'matrix_as_digraph',\n",
       " 'matrix_as_ets',\n",
       " 'matrix_as_ets_bin',\n",
       " 'matrix_as_ets_list',\n",
       " 'matrix_as_ext_bit_map',\n",
       " 'matrix_as_gb_tree',\n",
       " 'matrix_as_list_map',\n",
       " 'matrix_as_list_of_lists',\n",
       " 'matrix_as_map',\n",
       " 'matrix_as_sofs',\n",
       " 'matrix_as_tuple_of_tuples'}"
      ]
     },
     "execution_count": 1129,
     "metadata": {},
     "output_type": "execute_result"
    }
   ],
   "source": [
    "set(LoadedTable['Representation'])"
   ]
  },
  {
   "cell_type": "markdown",
   "metadata": {},
   "source": [
    "The matrices are represented in different ways, a matrix can be implemented:\n",
    "\n",
    "1. As a 'continous memory segment' with values representing Width, Height stored separetly. Element position in the segment is dynamically calculated based on Width, Height. This way of representation is used in: \n",
    "\n",
    " * <span style=\"color: green\">matrix_as_big_tuple</span> - where the matrix values are stored as one tuple of the size Width * Height\n",
    "\n",
    " * <span style=\"color: green\">matrix_as_array</span> - where the matrix values are stored as one [array](http://erlang.org/doc/man/array.html) of size Width * Height (note: arrays indexing starts from 0)\n",
    "\n",
    "2. As a 'dictionary' where everything is stored in form of key-value pairs. The key is created from coordinates pointing to the value. This way of representation is used in: \n",
    "\n",
    " * <span style=\"color: green\">matrix_as_map</span>, <span style=\"color: green\">matrix_as_bit_map</span>, <span style=\"color: green\">matrix_as_ext_bit_map</span> - where the matrix is stored as [map](http://erlang.org/doc/man/maps.html) and keys have form accordingly tuples, binary and again binary. The difference betrween the matrix_as_ext_bit_map and matrix_as_bit_map is that in the former representation the Height and the Width of the matrix are stored in the map and in the latter those values are stored separetly.\n",
    " * <span style=\"color: green\">matrix_as_dict</span>, <span style=\"color: green\">matrix_as_gb_trees</span> - since those modules are very similar in usage to the map module they are added to the research\n",
    " * <span style=\"color: green\">matrix_as_orddict</span> - orddict has the same interface as dict, but is implemented as one long list, which makes operations extremally time consuming (non of my implementations managed to get resonable execution time, so no results added here).\n",
    " * <span style=\"color: green\">matrix_as_ets</span>, <span style=\"color: green\">matrix_as_ets_list</span>, <span style=\"color: green\">matrix_as_ets_bin</span> - where the matrix is stored as [ets table](http://erlang.org/doc/man/ets.html) and key have forms of tuples, lists, and  binaries.\n",
    "\n",
    " * <span style=\"color: green\">matrix_as_digraph</span> - uses [digraph](http://erlang.org/doc/man/digraph.html) a directed graph representation where each value is stored in vertex with the coordinate {x,y}. Aside of that each column and row has dedicated vertex with edges from corresponding coordinate vertexes directed at it to speed up rows and columns sums calculations. It is worth mentioning that the digraph is internally implemented with ets table.\n",
    "\n",
    "3. As a 'compound structure' where we store each row as a element of bigger structure which represent the matrix: \n",
    "\n",
    " * <span style=\"color: green\">matrix_as_list_of_lists</span> - each of rows is a sublist of the list which represents the matrix. Each sublist contains elements representing  values in the row. Since it visually resembles a matrix, it is quite often abused by coders, but is very ineffective since list is implemented as a 'linked list' structure in C language sense. Heavy usage of [lists](http://erlang.org/doc/man/lists.html) module in this implementation. \n",
    "\n",
    " * <span style=\"color: green\">matrix_as_tuple_of_tuples</span> - each of rows is a subtuple of the tuple which represents the matrix. Each subtuple contains elements representing  values in the row. Tuples are implemented as a 'immutable memory block'. The block consist of pointers to numbers or other structures (pointers in C language sense). In this case each pointer references a tuple. Since the tuple is immutable, when we modify it we need to recreate two tuples, the main tuple (matrix) and the tuple containing the value (row tuple). But we do not need to recreate other tuples (rows).\n",
    " * <span style=\"color: green\">matrix_as_array_of_arrays</span> - the same as with the tuples but using the array module from OTP.\n",
    "\n",
    "\n",
    "4. As a relation in strict mathematical sense:\n",
    "\n",
    " * <span style=\"color: green\">matrix_as_sofs</span> - Set of the sets module is a way of representing relations (in strictly mathematical sense). In this case the matrix is represented as a relation (a function) F where domain is constructed from coordinates which is related to the matrix entry value ({x,y} F Value).\n",
    " \n",
    " To get values in specific row we define equivalence relation aRb iff thera are {x,y1} F a {x,y2} F b. This relation divides antidomain into abstract classes. If we sum elements that belongs to an abstract class defined by element {x,_} we will get sum of the elements from the row containing the element x. We use the same logic to sum abstract classes for columns.\n",
    "\n",
    " Unfortunatelly the sofs module is implemented with not necessary most efficient usage of the lists. In particular list:fold function is in heavy use in that module.  \n"
   ]
  },
  {
   "cell_type": "markdown",
   "metadata": {
    "collapsed": true
   },
   "source": [
    "Lets find the best solutions for 1000 x 1000 table for specific operations."
   ]
  },
  {
   "cell_type": "code",
   "execution_count": 1130,
   "metadata": {},
   "outputs": [
    {
     "data": {
      "text/html": [
       "<div>\n",
       "<style scoped>\n",
       "    .dataframe tbody tr th:only-of-type {\n",
       "        vertical-align: middle;\n",
       "    }\n",
       "\n",
       "    .dataframe tbody tr th {\n",
       "        vertical-align: top;\n",
       "    }\n",
       "\n",
       "    .dataframe thead th {\n",
       "        text-align: right;\n",
       "    }\n",
       "</style>\n",
       "<table border=\"1\" class=\"dataframe\">\n",
       "  <thead>\n",
       "    <tr style=\"text-align: right;\">\n",
       "      <th></th>\n",
       "      <th></th>\n",
       "      <th>Max</th>\n",
       "    </tr>\n",
       "    <tr>\n",
       "      <th>Operation</th>\n",
       "      <th>Representation</th>\n",
       "      <th></th>\n",
       "    </tr>\n",
       "  </thead>\n",
       "  <tbody>\n",
       "    <tr>\n",
       "      <th>cols_sums</th>\n",
       "      <th>matrix_as_big_tuple</th>\n",
       "      <td>11325482</td>\n",
       "    </tr>\n",
       "    <tr>\n",
       "      <th>get_value</th>\n",
       "      <th>matrix_as_big_tuple</th>\n",
       "      <td>7</td>\n",
       "    </tr>\n",
       "    <tr>\n",
       "      <th>rows_sums</th>\n",
       "      <th>matrix_as_list_of_lists</th>\n",
       "      <td>1124468</td>\n",
       "    </tr>\n",
       "    <tr>\n",
       "      <th>set_value</th>\n",
       "      <th>matrix_as_ets_list</th>\n",
       "      <td>23</td>\n",
       "    </tr>\n",
       "  </tbody>\n",
       "</table>\n",
       "</div>"
      ],
      "text/plain": [
       "                                        Max\n",
       "Operation Representation                   \n",
       "cols_sums matrix_as_big_tuple      11325482\n",
       "get_value matrix_as_big_tuple             7\n",
       "rows_sums matrix_as_list_of_lists   1124468\n",
       "set_value matrix_as_ets_list             23"
      ]
     },
     "execution_count": 1130,
     "metadata": {},
     "output_type": "execute_result"
    }
   ],
   "source": [
    "MinTable = (LoadedTable.groupby(['Operation','Representation'])\n",
    "            .apply(lambda x: pd.Series({'Max': x['ExecutionTime'].max()})))\n",
    "\n",
    "MinTable.loc[MinTable.groupby(['Operation'])['Max'].idxmin()]"
   ]
  },
  {
   "cell_type": "markdown",
   "metadata": {},
   "source": [
    "What we see here is that the best represtentation for retrieving data is keeping values in one big tuple and dimensions of tuple separetly. It is quite intuitive since all you need to get value is calculate memory address and fetch the value.\n"
   ]
  },
  {
   "cell_type": "markdown",
   "metadata": {},
   "source": [
    "Rearrange the table for convinience:"
   ]
  },
  {
   "cell_type": "code",
   "execution_count": 1131,
   "metadata": {
    "scrolled": true
   },
   "outputs": [
    {
     "data": {
      "text/html": [
       "<div>\n",
       "<style scoped>\n",
       "    .dataframe tbody tr th:only-of-type {\n",
       "        vertical-align: middle;\n",
       "    }\n",
       "\n",
       "    .dataframe tbody tr th {\n",
       "        vertical-align: top;\n",
       "    }\n",
       "\n",
       "    .dataframe thead tr th {\n",
       "        text-align: left;\n",
       "    }\n",
       "\n",
       "    .dataframe thead tr:last-of-type th {\n",
       "        text-align: right;\n",
       "    }\n",
       "</style>\n",
       "<table border=\"1\" class=\"dataframe\">\n",
       "  <thead>\n",
       "    <tr>\n",
       "      <th></th>\n",
       "      <th></th>\n",
       "      <th colspan=\"10\" halign=\"left\">ExecutionTime</th>\n",
       "    </tr>\n",
       "    <tr>\n",
       "      <th></th>\n",
       "      <th></th>\n",
       "      <th>100</th>\n",
       "      <th>200</th>\n",
       "      <th>300</th>\n",
       "      <th>400</th>\n",
       "      <th>500</th>\n",
       "      <th>600</th>\n",
       "      <th>700</th>\n",
       "      <th>800</th>\n",
       "      <th>900</th>\n",
       "      <th>1000</th>\n",
       "    </tr>\n",
       "    <tr>\n",
       "      <th>Operation</th>\n",
       "      <th>Representation</th>\n",
       "      <th></th>\n",
       "      <th></th>\n",
       "      <th></th>\n",
       "      <th></th>\n",
       "      <th></th>\n",
       "      <th></th>\n",
       "      <th></th>\n",
       "      <th></th>\n",
       "      <th></th>\n",
       "      <th></th>\n",
       "    </tr>\n",
       "  </thead>\n",
       "  <tbody>\n",
       "    <tr>\n",
       "      <th rowspan=\"5\" valign=\"top\">cols_sums</th>\n",
       "      <th>matrix_as_array</th>\n",
       "      <td>149107</td>\n",
       "      <td>698647</td>\n",
       "      <td>1673644</td>\n",
       "      <td>3328258</td>\n",
       "      <td>5315118</td>\n",
       "      <td>7969973</td>\n",
       "      <td>10883773</td>\n",
       "      <td>14856932</td>\n",
       "      <td>19837491</td>\n",
       "      <td>32788776</td>\n",
       "    </tr>\n",
       "    <tr>\n",
       "      <th>matrix_as_array_of_arrays</th>\n",
       "      <td>163495</td>\n",
       "      <td>846333</td>\n",
       "      <td>1965130</td>\n",
       "      <td>3481540</td>\n",
       "      <td>5531289</td>\n",
       "      <td>8061123</td>\n",
       "      <td>11006039</td>\n",
       "      <td>15028130</td>\n",
       "      <td>18675651</td>\n",
       "      <td>22708192</td>\n",
       "    </tr>\n",
       "    <tr>\n",
       "      <th>matrix_as_big_tuple</th>\n",
       "      <td>32050</td>\n",
       "      <td>92253</td>\n",
       "      <td>319090</td>\n",
       "      <td>366064</td>\n",
       "      <td>625388</td>\n",
       "      <td>863448</td>\n",
       "      <td>1234684</td>\n",
       "      <td>2388208</td>\n",
       "      <td>3653456</td>\n",
       "      <td>11325482</td>\n",
       "    </tr>\n",
       "    <tr>\n",
       "      <th>matrix_as_bit_map</th>\n",
       "      <td>3810040</td>\n",
       "      <td>28384618</td>\n",
       "      <td>53035475</td>\n",
       "      <td>106308550</td>\n",
       "      <td>365437658</td>\n",
       "      <td>226659932</td>\n",
       "      <td>349774361</td>\n",
       "      <td>475854253</td>\n",
       "      <td>589586379</td>\n",
       "      <td>2484937761</td>\n",
       "    </tr>\n",
       "    <tr>\n",
       "      <th>matrix_as_dict</th>\n",
       "      <td>236984</td>\n",
       "      <td>1311307</td>\n",
       "      <td>4352125</td>\n",
       "      <td>9008138</td>\n",
       "      <td>15995373</td>\n",
       "      <td>22315833</td>\n",
       "      <td>31890347</td>\n",
       "      <td>42940168</td>\n",
       "      <td>53118754</td>\n",
       "      <td>67434534</td>\n",
       "    </tr>\n",
       "  </tbody>\n",
       "</table>\n",
       "</div>"
      ],
      "text/plain": [
       "                                    ExecutionTime                      \\\n",
       "                                              100       200       300   \n",
       "Operation Representation                                                \n",
       "cols_sums matrix_as_array                  149107    698647   1673644   \n",
       "          matrix_as_array_of_arrays        163495    846333   1965130   \n",
       "          matrix_as_big_tuple               32050     92253    319090   \n",
       "          matrix_as_bit_map               3810040  28384618  53035475   \n",
       "          matrix_as_dict                   236984   1311307   4352125   \n",
       "\n",
       "                                                                      \\\n",
       "                                           400        500        600   \n",
       "Operation Representation                                               \n",
       "cols_sums matrix_as_array              3328258    5315118    7969973   \n",
       "          matrix_as_array_of_arrays    3481540    5531289    8061123   \n",
       "          matrix_as_big_tuple           366064     625388     863448   \n",
       "          matrix_as_bit_map          106308550  365437658  226659932   \n",
       "          matrix_as_dict               9008138   15995373   22315833   \n",
       "\n",
       "                                                                      \\\n",
       "                                           700        800        900   \n",
       "Operation Representation                                               \n",
       "cols_sums matrix_as_array             10883773   14856932   19837491   \n",
       "          matrix_as_array_of_arrays   11006039   15028130   18675651   \n",
       "          matrix_as_big_tuple          1234684    2388208    3653456   \n",
       "          matrix_as_bit_map          349774361  475854253  589586379   \n",
       "          matrix_as_dict              31890347   42940168   53118754   \n",
       "\n",
       "                                                 \n",
       "                                           1000  \n",
       "Operation Representation                         \n",
       "cols_sums matrix_as_array              32788776  \n",
       "          matrix_as_array_of_arrays    22708192  \n",
       "          matrix_as_big_tuple          11325482  \n",
       "          matrix_as_bit_map          2484937761  \n",
       "          matrix_as_dict               67434534  "
      ]
     },
     "execution_count": 1131,
     "metadata": {},
     "output_type": "execute_result"
    }
   ],
   "source": [
    "SortedTable = LoadedTable.set_index(['Operation','Representation','Height'])\n",
    "SortedTable = SortedTable.unstack(2)\n",
    "IndexTuples = [('ExecutionTime','100'), ('ExecutionTime','200'), ('ExecutionTime','300'), ('ExecutionTime','400'), \n",
    "               ('ExecutionTime','500'), ('ExecutionTime','600'), ('ExecutionTime','700'), \n",
    "               ('ExecutionTime','800'), ('ExecutionTime','900'), ('ExecutionTime','1000')]\n",
    "SortedTable = SortedTable.reindex(columns = pd.MultiIndex.from_tuples(IndexTuples))\n",
    "SortedTable.head()"
   ]
  },
  {
   "cell_type": "markdown",
   "metadata": {},
   "source": [
    "We will be comparing the values of different representations. Since levels in the index is always sorted alphabetically and  sorting just change order of labels, we can use level to create a fixed legend:"
   ]
  },
  {
   "cell_type": "code",
   "execution_count": 1132,
   "metadata": {},
   "outputs": [
    {
     "data": {
      "text/plain": [
       "[(0, 'matrix_as_array'),\n",
       " (1, 'matrix_as_array_of_arrays'),\n",
       " (2, 'matrix_as_big_tuple'),\n",
       " (3, 'matrix_as_bit_map'),\n",
       " (4, 'matrix_as_dict'),\n",
       " (5, 'matrix_as_digraph'),\n",
       " (6, 'matrix_as_ets'),\n",
       " (7, 'matrix_as_ets_bin'),\n",
       " (8, 'matrix_as_ets_list'),\n",
       " (9, 'matrix_as_ext_bit_map'),\n",
       " (10, 'matrix_as_gb_tree'),\n",
       " (11, 'matrix_as_list_map'),\n",
       " (12, 'matrix_as_list_of_lists'),\n",
       " (13, 'matrix_as_map'),\n",
       " (14, 'matrix_as_sofs'),\n",
       " (15, 'matrix_as_tuple_of_tuples')]"
      ]
     },
     "execution_count": 1132,
     "metadata": {},
     "output_type": "execute_result"
    }
   ],
   "source": [
    "idx = pd.IndexSlice\n",
    "ColsSums = SortedTable.loc[idx['cols_sums',:],idx[:]]\n",
    "[(i, ColsSums.index.levels[1][i]) for i in range(0,ColsSums.index.levels[1].size)]"
   ]
  },
  {
   "cell_type": "markdown",
   "metadata": {},
   "source": [
    "Lets compare the results of the operations on the borderline small and big matrices:"
   ]
  },
  {
   "cell_type": "code",
   "execution_count": 1133,
   "metadata": {},
   "outputs": [
    {
     "data": {
      "text/plain": [
       "(FrozenNDArray([2, 15, 14, 1, 12, 0, 10, 4, 11, 13, 5, 9, 3, 7, 8, 6], dtype='int8'),\n",
       " FrozenNDArray([2, 14, 15, 12, 0, 1, 4, 11, 13, 10, 5, 8, 6, 3, 9, 7], dtype='int8'))"
      ]
     },
     "execution_count": 1133,
     "metadata": {},
     "output_type": "execute_result"
    }
   ],
   "source": [
    "ColsSums = SortedTable.loc[idx['cols_sums',:],idx[:]]\n",
    "(ColsSums.sort_values(by=('ExecutionTime', '1000')).index.labels[1],\n",
    "ColsSums.sort_values(by=('ExecutionTime', '100')).index.labels[1])"
   ]
  },
  {
   "cell_type": "code",
   "execution_count": 1134,
   "metadata": {},
   "outputs": [
    {
     "data": {
      "text/plain": [
       "(FrozenNDArray([12, 15, 2, 1, 0, 14, 4, 11, 13, 10, 5, 9, 3, 7, 8, 6], dtype='int8'),\n",
       " FrozenNDArray([12, 15, 2, 1, 0, 14, 4, 11, 13, 10, 5, 8, 9, 3, 6, 7], dtype='int8'))"
      ]
     },
     "execution_count": 1134,
     "metadata": {},
     "output_type": "execute_result"
    }
   ],
   "source": [
    "RowsSums = SortedTable.loc[idx['rows_sums',:],idx[:]]\n",
    "(RowsSums.sort_values(by=('ExecutionTime', '1000')).index.labels[1],\n",
    "RowsSums.sort_values(by=('ExecutionTime', '100')).index.labels[1])"
   ]
  },
  {
   "cell_type": "code",
   "execution_count": 1135,
   "metadata": {},
   "outputs": [
    {
     "data": {
      "text/plain": [
       "(FrozenNDArray([6, 8, 5, 7, 11, 0, 13, 1, 15, 10, 9, 3, 12, 4, 2, 14], dtype='int8'),\n",
       " FrozenNDArray([8, 6, 7, 13, 5, 11, 15, 0, 1, 4, 10, 12, 3, 9, 2, 14], dtype='int8'))"
      ]
     },
     "execution_count": 1135,
     "metadata": {},
     "output_type": "execute_result"
    }
   ],
   "source": [
    "SetValue = SortedTable.loc[idx['set_value',:],idx[:]]\n",
    "(SetValue.sort_values(by=('ExecutionTime', '1000')).index.labels[1],\n",
    "SetValue.sort_values(by=('ExecutionTime', '100')).index.labels[1])"
   ]
  },
  {
   "cell_type": "code",
   "execution_count": 1136,
   "metadata": {},
   "outputs": [
    {
     "data": {
      "text/plain": [
       "(FrozenNDArray([15, 2, 6, 8, 7, 5, 0, 13, 11, 1, 9, 4, 10, 12, 3, 14], dtype='int8'),\n",
       " FrozenNDArray([15, 2, 13, 8, 6, 7, 5, 0, 12, 9, 11, 10, 1, 3, 4, 14], dtype='int8'))"
      ]
     },
     "execution_count": 1136,
     "metadata": {},
     "output_type": "execute_result"
    }
   ],
   "source": [
    "GetValue = SortedTable.loc[idx['get_value',:],idx[:]]\n",
    "(GetValue.sort_values(by=('ExecutionTime', '1000')).index.labels[1],\n",
    "GetValue.sort_values(by=('ExecutionTime', '100')).index.labels[1])"
   ]
  },
  {
   "cell_type": "markdown",
   "metadata": {},
   "source": [
    "Let notify here two observations:"
   ]
  },
  {
   "cell_type": "markdown",
   "metadata": {},
   "source": [
    " - We can see that some solutions resource consumtion grows faster than others, even among the best solutions. Like (6, 'matrix_as_ets'), (8, 'matrix_as_ets_list') for set_value."
   ]
  },
  {
   "cell_type": "markdown",
   "metadata": {},
   "source": [
    " - We can see that for some some implementations are leaders for specific operation no matter of the input size, but also there are [dominated](https://en.wikipedia.org/wiki/Multi-objective_optimization) solutions like  (9, 'matrix_as_ext_bit_map')."
   ]
  },
  {
   "cell_type": "markdown",
   "metadata": {},
   "source": [
    "To address the first problem we should consider solutions that showing resonable growth (less than exponential if possible) of the resource consumption."
   ]
  },
  {
   "cell_type": "markdown",
   "metadata": {},
   "source": [
    "From my [projections](https://nbviewer.jupyter.org/urls/github.com/flmath/matrix_implementations_in_erlang/raw/master/jupyter/growth_projections.ipynb) we should consider:\n",
    "- For rows and columns sums: matrix_as_ets_list and matrix_as_ets representaions.\n",
    "- For the get_value function the matrix_as_tuple_of_tuples is clear winner, but also the matrix_as_list_of_lists.\n",
    "- For setting values the results are not so clear, but the matrix_as_array is recomendated. Also matrix_as_dict and matrix_as_sofs should be considered."
   ]
  },
  {
   "cell_type": "markdown",
   "metadata": {},
   "source": [
    "Please refer to my other [repo](https://github.com/flmath/empirical-growth-testing) for [methodology](https://nbviewer.jupyter.org/urls/github.com/flmath/empirical-growth-testing/raw/master/Empirical_growth_testing.ipynb) used in the [analysis](https://nbviewer.jupyter.org/urls/github.com/flmath/matrix_implementations_in_erlang/raw/master/jupyter/growth_projections.ipynb)."
   ]
  },
  {
   "cell_type": "code",
   "execution_count": null,
   "metadata": {},
   "outputs": [],
   "source": []
  }
 ],
 "metadata": {
  "kernelspec": {
   "display_name": "Python 3",
   "language": "python",
   "name": "python3"
  },
  "language_info": {
   "codemirror_mode": {
    "name": "ipython",
    "version": 3
   },
   "file_extension": ".py",
   "mimetype": "text/x-python",
   "name": "python",
   "nbconvert_exporter": "python",
   "pygments_lexer": "ipython3",
   "version": "3.6.5"
  }
 },
 "nbformat": 4,
 "nbformat_minor": 2
}
